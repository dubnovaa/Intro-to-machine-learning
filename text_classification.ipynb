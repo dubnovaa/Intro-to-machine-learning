{
 "cells": [
  {
   "cell_type": "markdown",
   "metadata": {},
   "source": [
    "# Домашнее задание 6: классификация текстов"
   ]
  },
  {
   "cell_type": "markdown",
   "metadata": {},
   "source": [
    "В этом домашнем задании вам предстоит построить классификатор текстов!\n",
    "\n",
    "Данные мы будем использовать из Kaggle соревнования: https://www.kaggle.com/competitions/nlp-getting-started/data Оттуда надо скачать файл train.csv. На обучающую и тестовую выборки его поделим кодом ниже, менять его не надо!"
   ]
  },
  {
   "cell_type": "markdown",
   "metadata": {},
   "source": [
    "Мы будем работать с датасетом постов из твиттера. Нам предстоит решать задачу бинарной классификации - определять содержатся ли в твитте информация о настоящей катастрофе/инциденте или нет."
   ]
  },
  {
   "cell_type": "code",
   "execution_count": 1,
   "metadata": {},
   "outputs": [],
   "source": [
    "import matplotlib.pyplot as plt\n",
    "import seaborn as sns\n",
    "import pandas as pd\n",
    "import re"
   ]
  },
  {
   "cell_type": "code",
   "execution_count": 2,
   "metadata": {},
   "outputs": [],
   "source": [
    "data = pd.read_csv('train.csv')"
   ]
  },
  {
   "cell_type": "code",
   "execution_count": 3,
   "metadata": {},
   "outputs": [
    {
     "data": {
      "text/html": [
       "<div>\n",
       "<style scoped>\n",
       "    .dataframe tbody tr th:only-of-type {\n",
       "        vertical-align: middle;\n",
       "    }\n",
       "\n",
       "    .dataframe tbody tr th {\n",
       "        vertical-align: top;\n",
       "    }\n",
       "\n",
       "    .dataframe thead th {\n",
       "        text-align: right;\n",
       "    }\n",
       "</style>\n",
       "<table border=\"1\" class=\"dataframe\">\n",
       "  <thead>\n",
       "    <tr style=\"text-align: right;\">\n",
       "      <th></th>\n",
       "      <th>id</th>\n",
       "      <th>keyword</th>\n",
       "      <th>location</th>\n",
       "      <th>text</th>\n",
       "      <th>target</th>\n",
       "    </tr>\n",
       "  </thead>\n",
       "  <tbody>\n",
       "    <tr>\n",
       "      <th>0</th>\n",
       "      <td>1</td>\n",
       "      <td>NaN</td>\n",
       "      <td>NaN</td>\n",
       "      <td>Our Deeds are the Reason of this #earthquake M...</td>\n",
       "      <td>1</td>\n",
       "    </tr>\n",
       "    <tr>\n",
       "      <th>1</th>\n",
       "      <td>4</td>\n",
       "      <td>NaN</td>\n",
       "      <td>NaN</td>\n",
       "      <td>Forest fire near La Ronge Sask. Canada</td>\n",
       "      <td>1</td>\n",
       "    </tr>\n",
       "    <tr>\n",
       "      <th>2</th>\n",
       "      <td>5</td>\n",
       "      <td>NaN</td>\n",
       "      <td>NaN</td>\n",
       "      <td>All residents asked to 'shelter in place' are ...</td>\n",
       "      <td>1</td>\n",
       "    </tr>\n",
       "    <tr>\n",
       "      <th>3</th>\n",
       "      <td>6</td>\n",
       "      <td>NaN</td>\n",
       "      <td>NaN</td>\n",
       "      <td>13,000 people receive #wildfires evacuation or...</td>\n",
       "      <td>1</td>\n",
       "    </tr>\n",
       "    <tr>\n",
       "      <th>4</th>\n",
       "      <td>7</td>\n",
       "      <td>NaN</td>\n",
       "      <td>NaN</td>\n",
       "      <td>Just got sent this photo from Ruby #Alaska as ...</td>\n",
       "      <td>1</td>\n",
       "    </tr>\n",
       "  </tbody>\n",
       "</table>\n",
       "</div>"
      ],
      "text/plain": [
       "   id keyword location                                               text  \\\n",
       "0   1     NaN      NaN  Our Deeds are the Reason of this #earthquake M...   \n",
       "1   4     NaN      NaN             Forest fire near La Ronge Sask. Canada   \n",
       "2   5     NaN      NaN  All residents asked to 'shelter in place' are ...   \n",
       "3   6     NaN      NaN  13,000 people receive #wildfires evacuation or...   \n",
       "4   7     NaN      NaN  Just got sent this photo from Ruby #Alaska as ...   \n",
       "\n",
       "   target  \n",
       "0       1  \n",
       "1       1  \n",
       "2       1  \n",
       "3       1  \n",
       "4       1  "
      ]
     },
     "execution_count": 3,
     "metadata": {},
     "output_type": "execute_result"
    }
   ],
   "source": [
    "data.head()"
   ]
  },
  {
   "cell_type": "code",
   "execution_count": 4,
   "metadata": {},
   "outputs": [],
   "source": [
    "from sklearn.model_selection import train_test_split\n",
    "\n",
    "train, test = train_test_split(data, test_size=0.3, random_state=42)"
   ]
  },
  {
   "cell_type": "markdown",
   "metadata": {},
   "source": [
    "## Задание 1 (0.5 балла)\n",
    "\n",
    "Выведете на экран информацию о пропусках в данных. Если пропуски присутствуют заполните их пустой строкой."
   ]
  },
  {
   "cell_type": "code",
   "execution_count": 5,
   "metadata": {},
   "outputs": [
    {
     "data": {
      "text/plain": [
       "id          False\n",
       "keyword      True\n",
       "location     True\n",
       "text        False\n",
       "target      False\n",
       "dtype: bool"
      ]
     },
     "execution_count": 5,
     "metadata": {},
     "output_type": "execute_result"
    }
   ],
   "source": [
    "train.isnull().any()"
   ]
  },
  {
   "cell_type": "code",
   "execution_count": 6,
   "metadata": {},
   "outputs": [
    {
     "data": {
      "text/plain": [
       "id          False\n",
       "keyword      True\n",
       "location     True\n",
       "text        False\n",
       "target      False\n",
       "dtype: bool"
      ]
     },
     "execution_count": 6,
     "metadata": {},
     "output_type": "execute_result"
    }
   ],
   "source": [
    "test.isnull().any()"
   ]
  },
  {
   "cell_type": "code",
   "execution_count": 7,
   "metadata": {},
   "outputs": [],
   "source": [
    "train = train.fillna(\"\")#, inplace=True)\n",
    "test = test.fillna(\"\")"
   ]
  },
  {
   "cell_type": "code",
   "execution_count": 8,
   "metadata": {},
   "outputs": [
    {
     "data": {
      "text/plain": [
       "0"
      ]
     },
     "execution_count": 8,
     "metadata": {},
     "output_type": "execute_result"
    }
   ],
   "source": [
    "train.isnull().any().sum() # больше пропусков нет"
   ]
  },
  {
   "cell_type": "code",
   "execution_count": 9,
   "metadata": {},
   "outputs": [
    {
     "data": {
      "text/plain": [
       "0"
      ]
     },
     "execution_count": 9,
     "metadata": {},
     "output_type": "execute_result"
    }
   ],
   "source": [
    "test.isnull().any().sum()"
   ]
  },
  {
   "cell_type": "markdown",
   "metadata": {},
   "source": [
    "## Задание 2 (1 балл)\n",
    "Давайте немного посмотрим на наши данные. Визуализируйте (где явно просят) или выведете информацию о следующем:\n",
    "\n",
    "1. Какое распределение классов в обучающей выборке?\n",
    "2. Посмотрите на колонку \"keyword\" - возьмите 10 наиболее встречающихся значений, постройте ступенчатую диаграмму распределения классов в зависимости от значения keyword, сделайте выводы."
   ]
  },
  {
   "cell_type": "code",
   "execution_count": 10,
   "metadata": {
    "scrolled": true
   },
   "outputs": [
    {
     "data": {
      "text/plain": [
       "0    3024\n",
       "1    2305\n",
       "Name: target, dtype: int64"
      ]
     },
     "execution_count": 10,
     "metadata": {},
     "output_type": "execute_result"
    }
   ],
   "source": [
    "train['target'].value_counts()"
   ]
  },
  {
   "cell_type": "markdown",
   "metadata": {},
   "source": [
    "###### Выборка не очень сбалансированная. Из-за этого в последнем задании при инициализации логистической регрессии для лучшего результата сделаем сбалансированные веса \n",
    "###### Заметим еще, что если ключевым словом в keyword является не слово, а сочетание слов, то пробелы там заменяются на \"%20\", что потом может привести к потере данных. Заменим обратно \"%20\" на пробелы"
   ]
  },
  {
   "cell_type": "code",
   "execution_count": 11,
   "metadata": {},
   "outputs": [],
   "source": [
    "def whitespace(string: str):\n",
    "    return re.sub(r'(%20)', ' ', string)\n",
    "\n",
    "train.rename(columns={'keyword': 'kword'}, inplace=True)\n",
    "test.rename(columns={'keyword': 'kword'}, inplace=True)   \n",
    "train['keyword'] = [whitespace(kword) for kword in train['kword'].values]\n",
    "test['keyword'] = [whitespace(kword) for kword in test['kword'].values]\n",
    "train.drop('kword', axis=1, inplace=True)\n",
    "test.drop('kword', axis=1, inplace=True)"
   ]
  },
  {
   "cell_type": "code",
   "execution_count": 12,
   "metadata": {},
   "outputs": [
    {
     "data": {
      "text/html": [
       "<div>\n",
       "<style scoped>\n",
       "    .dataframe tbody tr th:only-of-type {\n",
       "        vertical-align: middle;\n",
       "    }\n",
       "\n",
       "    .dataframe tbody tr th {\n",
       "        vertical-align: top;\n",
       "    }\n",
       "\n",
       "    .dataframe thead th {\n",
       "        text-align: right;\n",
       "    }\n",
       "</style>\n",
       "<table border=\"1\" class=\"dataframe\">\n",
       "  <thead>\n",
       "    <tr style=\"text-align: right;\">\n",
       "      <th></th>\n",
       "      <th>id</th>\n",
       "      <th>location</th>\n",
       "      <th>text</th>\n",
       "      <th>target</th>\n",
       "      <th>keyword</th>\n",
       "    </tr>\n",
       "  </thead>\n",
       "  <tbody>\n",
       "    <tr>\n",
       "      <th>1186</th>\n",
       "      <td>1707</td>\n",
       "      <td></td>\n",
       "      <td>Ashes 2015: AustraliaÛªs collapse at Trent Br...</td>\n",
       "      <td>0</td>\n",
       "      <td>bridge collapse</td>\n",
       "    </tr>\n",
       "    <tr>\n",
       "      <th>4071</th>\n",
       "      <td>5789</td>\n",
       "      <td>Carol Stream, Illinois</td>\n",
       "      <td>GREAT MICHIGAN TECHNIQUE CAMP\\nB1G THANKS TO @...</td>\n",
       "      <td>1</td>\n",
       "      <td>hail</td>\n",
       "    </tr>\n",
       "    <tr>\n",
       "      <th>5461</th>\n",
       "      <td>7789</td>\n",
       "      <td>Houston</td>\n",
       "      <td>CNN: Tennessee movie theater shooting suspect ...</td>\n",
       "      <td>1</td>\n",
       "      <td>police</td>\n",
       "    </tr>\n",
       "    <tr>\n",
       "      <th>5787</th>\n",
       "      <td>8257</td>\n",
       "      <td></td>\n",
       "      <td>Still rioting in a couple of hours left until ...</td>\n",
       "      <td>1</td>\n",
       "      <td>rioting</td>\n",
       "    </tr>\n",
       "    <tr>\n",
       "      <th>7445</th>\n",
       "      <td>10656</td>\n",
       "      <td>Lake Highlands</td>\n",
       "      <td>Crack in the path where I wiped out this morni...</td>\n",
       "      <td>0</td>\n",
       "      <td>wounds</td>\n",
       "    </tr>\n",
       "    <tr>\n",
       "      <th>...</th>\n",
       "      <td>...</td>\n",
       "      <td>...</td>\n",
       "      <td>...</td>\n",
       "      <td>...</td>\n",
       "      <td>...</td>\n",
       "    </tr>\n",
       "    <tr>\n",
       "      <th>5226</th>\n",
       "      <td>7470</td>\n",
       "      <td>Merica!</td>\n",
       "      <td>@Eganator2000 There aren't many Obliteration s...</td>\n",
       "      <td>0</td>\n",
       "      <td>obliteration</td>\n",
       "    </tr>\n",
       "    <tr>\n",
       "      <th>5390</th>\n",
       "      <td>7691</td>\n",
       "      <td></td>\n",
       "      <td>just had a panic attack bc I don't have enough...</td>\n",
       "      <td>0</td>\n",
       "      <td>panic</td>\n",
       "    </tr>\n",
       "    <tr>\n",
       "      <th>860</th>\n",
       "      <td>1242</td>\n",
       "      <td></td>\n",
       "      <td>Omron HEM-712C Automatic Blood Pressure Monito...</td>\n",
       "      <td>0</td>\n",
       "      <td>blood</td>\n",
       "    </tr>\n",
       "    <tr>\n",
       "      <th>7603</th>\n",
       "      <td>10862</td>\n",
       "      <td></td>\n",
       "      <td>Officials say a quarantine is in place at an A...</td>\n",
       "      <td>1</td>\n",
       "      <td></td>\n",
       "    </tr>\n",
       "    <tr>\n",
       "      <th>7270</th>\n",
       "      <td>10409</td>\n",
       "      <td>Stamford &amp; Cork (&amp; Shropshire)</td>\n",
       "      <td>I moved to England five years ago today. What ...</td>\n",
       "      <td>1</td>\n",
       "      <td>whirlwind</td>\n",
       "    </tr>\n",
       "  </tbody>\n",
       "</table>\n",
       "<p>5329 rows × 5 columns</p>\n",
       "</div>"
      ],
      "text/plain": [
       "         id                        location  \\\n",
       "1186   1707                                   \n",
       "4071   5789          Carol Stream, Illinois   \n",
       "5461   7789                        Houston    \n",
       "5787   8257                                   \n",
       "7445  10656                  Lake Highlands   \n",
       "...     ...                             ...   \n",
       "5226   7470                         Merica!   \n",
       "5390   7691                                   \n",
       "860    1242                                   \n",
       "7603  10862                                   \n",
       "7270  10409  Stamford & Cork (& Shropshire)   \n",
       "\n",
       "                                                   text  target  \\\n",
       "1186  Ashes 2015: AustraliaÛªs collapse at Trent Br...       0   \n",
       "4071  GREAT MICHIGAN TECHNIQUE CAMP\\nB1G THANKS TO @...       1   \n",
       "5461  CNN: Tennessee movie theater shooting suspect ...       1   \n",
       "5787  Still rioting in a couple of hours left until ...       1   \n",
       "7445  Crack in the path where I wiped out this morni...       0   \n",
       "...                                                 ...     ...   \n",
       "5226  @Eganator2000 There aren't many Obliteration s...       0   \n",
       "5390  just had a panic attack bc I don't have enough...       0   \n",
       "860   Omron HEM-712C Automatic Blood Pressure Monito...       0   \n",
       "7603  Officials say a quarantine is in place at an A...       1   \n",
       "7270  I moved to England five years ago today. What ...       1   \n",
       "\n",
       "              keyword  \n",
       "1186  bridge collapse  \n",
       "4071             hail  \n",
       "5461           police  \n",
       "5787          rioting  \n",
       "7445           wounds  \n",
       "...               ...  \n",
       "5226     obliteration  \n",
       "5390            panic  \n",
       "860             blood  \n",
       "7603                   \n",
       "7270        whirlwind  \n",
       "\n",
       "[5329 rows x 5 columns]"
      ]
     },
     "execution_count": 12,
     "metadata": {},
     "output_type": "execute_result"
    }
   ],
   "source": [
    "train"
   ]
  },
  {
   "cell_type": "markdown",
   "metadata": {},
   "source": [
    "я строю диаграмму не по 10-ти, а по 15-ти (считая пустую строку) наиболее частым ключевым словам, так как если брать только 10, то охватываются не все слова, повторяющиеся 30 раз. не хочу для диаграммы выкидывать какие-то ключевые слова просто потому что они по отсортиваны дальше других, несмотря на одну и ту же частоту встречи"
   ]
  },
  {
   "cell_type": "code",
   "execution_count": 13,
   "metadata": {
    "scrolled": true
   },
   "outputs": [],
   "source": [
    "kwords = train['keyword'].value_counts()[:15].index.tolist()"
   ]
  },
  {
   "cell_type": "code",
   "execution_count": 14,
   "metadata": {
    "scrolled": true
   },
   "outputs": [],
   "source": [
    "# tweets = []\n",
    "# for kword in kwords:\n",
    "#     tweets.append(train[train['keyword'] == kword])\n",
    "# frequent_tweets = pd.concat(tweets)\n",
    "frequent_tweets = train[train['keyword'].isin(kwords)]"
   ]
  },
  {
   "cell_type": "code",
   "execution_count": 15,
   "metadata": {},
   "outputs": [
    {
     "data": {
      "text/plain": [
       "<matplotlib.axes._subplots.AxesSubplot at 0x7fb8b5e1c050>"
      ]
     },
     "execution_count": 15,
     "metadata": {},
     "output_type": "execute_result"
    },
    {
     "data": {
      "image/png": "[encoded data removed]",
      "text/plain": [
       "<Figure size 2520x720 with 1 Axes>"
      ]
     },
     "metadata": {
      "needs_background": "light"
     },
     "output_type": "display_data"
    }
   ],
   "source": [
    "plt.figure(figsize = (35,10))\n",
    "sns.set(font_scale=2, style=\"whitegrid\")\n",
    "sns.histplot(x=frequent_tweets['keyword'], hue=frequent_tweets['target'], multiple='stack', shrink=0.9)#, palette='pastel')#{0:'r',1:'g' })\n"
   ]
  },
  {
   "cell_type": "markdown",
   "metadata": {},
   "source": [
    "        Вывод\n",
    "многие слова, которые логично было бы отнести к твитам про реальные катастрофы, тем не менее в основном встречаются в обычных твитах не про катастрофы. лишь по нескольким (из часто встречающихся) словам можно будет уверенно предсказывать класс"
   ]
  },
  {
   "cell_type": "markdown",
   "metadata": {},
   "source": [
    "## Задание 3 (0.5 балла) \n",
    "\n",
    "В этом задании предлагается объединить все три текстовых столбца в один (просто сконкатенировать cтроки) и убрать столбец с индексом."
   ]
  },
  {
   "cell_type": "code",
   "execution_count": 16,
   "metadata": {},
   "outputs": [],
   "source": [
    "train.drop('id', axis=1, inplace=True)"
   ]
  },
  {
   "cell_type": "code",
   "execution_count": 17,
   "metadata": {},
   "outputs": [],
   "source": [
    "test.drop('id', axis=1, inplace=True)"
   ]
  },
  {
   "cell_type": "code",
   "execution_count": 18,
   "metadata": {},
   "outputs": [
    {
     "data": {
      "text/html": [
       "<div>\n",
       "<style scoped>\n",
       "    .dataframe tbody tr th:only-of-type {\n",
       "        vertical-align: middle;\n",
       "    }\n",
       "\n",
       "    .dataframe tbody tr th {\n",
       "        vertical-align: top;\n",
       "    }\n",
       "\n",
       "    .dataframe thead th {\n",
       "        text-align: right;\n",
       "    }\n",
       "</style>\n",
       "<table border=\"1\" class=\"dataframe\">\n",
       "  <thead>\n",
       "    <tr style=\"text-align: right;\">\n",
       "      <th></th>\n",
       "      <th>location</th>\n",
       "      <th>text</th>\n",
       "      <th>target</th>\n",
       "      <th>keyword</th>\n",
       "    </tr>\n",
       "  </thead>\n",
       "  <tbody>\n",
       "    <tr>\n",
       "      <th>1186</th>\n",
       "      <td></td>\n",
       "      <td>Ashes 2015: AustraliaÛªs collapse at Trent Br...</td>\n",
       "      <td>0</td>\n",
       "      <td>bridge collapse</td>\n",
       "    </tr>\n",
       "    <tr>\n",
       "      <th>4071</th>\n",
       "      <td>Carol Stream, Illinois</td>\n",
       "      <td>GREAT MICHIGAN TECHNIQUE CAMP\\nB1G THANKS TO @...</td>\n",
       "      <td>1</td>\n",
       "      <td>hail</td>\n",
       "    </tr>\n",
       "    <tr>\n",
       "      <th>5461</th>\n",
       "      <td>Houston</td>\n",
       "      <td>CNN: Tennessee movie theater shooting suspect ...</td>\n",
       "      <td>1</td>\n",
       "      <td>police</td>\n",
       "    </tr>\n",
       "    <tr>\n",
       "      <th>5787</th>\n",
       "      <td></td>\n",
       "      <td>Still rioting in a couple of hours left until ...</td>\n",
       "      <td>1</td>\n",
       "      <td>rioting</td>\n",
       "    </tr>\n",
       "    <tr>\n",
       "      <th>7445</th>\n",
       "      <td>Lake Highlands</td>\n",
       "      <td>Crack in the path where I wiped out this morni...</td>\n",
       "      <td>0</td>\n",
       "      <td>wounds</td>\n",
       "    </tr>\n",
       "    <tr>\n",
       "      <th>...</th>\n",
       "      <td>...</td>\n",
       "      <td>...</td>\n",
       "      <td>...</td>\n",
       "      <td>...</td>\n",
       "    </tr>\n",
       "    <tr>\n",
       "      <th>5226</th>\n",
       "      <td>Merica!</td>\n",
       "      <td>@Eganator2000 There aren't many Obliteration s...</td>\n",
       "      <td>0</td>\n",
       "      <td>obliteration</td>\n",
       "    </tr>\n",
       "    <tr>\n",
       "      <th>5390</th>\n",
       "      <td></td>\n",
       "      <td>just had a panic attack bc I don't have enough...</td>\n",
       "      <td>0</td>\n",
       "      <td>panic</td>\n",
       "    </tr>\n",
       "    <tr>\n",
       "      <th>860</th>\n",
       "      <td></td>\n",
       "      <td>Omron HEM-712C Automatic Blood Pressure Monito...</td>\n",
       "      <td>0</td>\n",
       "      <td>blood</td>\n",
       "    </tr>\n",
       "    <tr>\n",
       "      <th>7603</th>\n",
       "      <td></td>\n",
       "      <td>Officials say a quarantine is in place at an A...</td>\n",
       "      <td>1</td>\n",
       "      <td></td>\n",
       "    </tr>\n",
       "    <tr>\n",
       "      <th>7270</th>\n",
       "      <td>Stamford &amp; Cork (&amp; Shropshire)</td>\n",
       "      <td>I moved to England five years ago today. What ...</td>\n",
       "      <td>1</td>\n",
       "      <td>whirlwind</td>\n",
       "    </tr>\n",
       "  </tbody>\n",
       "</table>\n",
       "<p>5329 rows × 4 columns</p>\n",
       "</div>"
      ],
      "text/plain": [
       "                            location  \\\n",
       "1186                                   \n",
       "4071          Carol Stream, Illinois   \n",
       "5461                        Houston    \n",
       "5787                                   \n",
       "7445                  Lake Highlands   \n",
       "...                              ...   \n",
       "5226                         Merica!   \n",
       "5390                                   \n",
       "860                                    \n",
       "7603                                   \n",
       "7270  Stamford & Cork (& Shropshire)   \n",
       "\n",
       "                                                   text  target  \\\n",
       "1186  Ashes 2015: AustraliaÛªs collapse at Trent Br...       0   \n",
       "4071  GREAT MICHIGAN TECHNIQUE CAMP\\nB1G THANKS TO @...       1   \n",
       "5461  CNN: Tennessee movie theater shooting suspect ...       1   \n",
       "5787  Still rioting in a couple of hours left until ...       1   \n",
       "7445  Crack in the path where I wiped out this morni...       0   \n",
       "...                                                 ...     ...   \n",
       "5226  @Eganator2000 There aren't many Obliteration s...       0   \n",
       "5390  just had a panic attack bc I don't have enough...       0   \n",
       "860   Omron HEM-712C Automatic Blood Pressure Monito...       0   \n",
       "7603  Officials say a quarantine is in place at an A...       1   \n",
       "7270  I moved to England five years ago today. What ...       1   \n",
       "\n",
       "              keyword  \n",
       "1186  bridge collapse  \n",
       "4071             hail  \n",
       "5461           police  \n",
       "5787          rioting  \n",
       "7445           wounds  \n",
       "...               ...  \n",
       "5226     obliteration  \n",
       "5390            panic  \n",
       "860             blood  \n",
       "7603                   \n",
       "7270        whirlwind  \n",
       "\n",
       "[5329 rows x 4 columns]"
      ]
     },
     "execution_count": 18,
     "metadata": {},
     "output_type": "execute_result"
    }
   ],
   "source": [
    "train"
   ]
  },
  {
   "cell_type": "code",
   "execution_count": 19,
   "metadata": {},
   "outputs": [],
   "source": [
    "train['text'] = train['keyword'] + ' ' + train['location'] + ' ' + train['text']\n",
    "train.drop(['keyword', 'location'], axis=1, inplace=True)"
   ]
  },
  {
   "cell_type": "code",
   "execution_count": 20,
   "metadata": {},
   "outputs": [],
   "source": [
    "test['text'] = test['keyword'] + ' ' + test['location'] + ' ' + test['text']\n",
    "test.drop(['keyword', 'location'], axis=1, inplace=True)"
   ]
  },
  {
   "cell_type": "code",
   "execution_count": 21,
   "metadata": {},
   "outputs": [
    {
     "data": {
      "text/html": [
       "<div>\n",
       "<style scoped>\n",
       "    .dataframe tbody tr th:only-of-type {\n",
       "        vertical-align: middle;\n",
       "    }\n",
       "\n",
       "    .dataframe tbody tr th {\n",
       "        vertical-align: top;\n",
       "    }\n",
       "\n",
       "    .dataframe thead th {\n",
       "        text-align: right;\n",
       "    }\n",
       "</style>\n",
       "<table border=\"1\" class=\"dataframe\">\n",
       "  <thead>\n",
       "    <tr style=\"text-align: right;\">\n",
       "      <th></th>\n",
       "      <th>text</th>\n",
       "      <th>target</th>\n",
       "    </tr>\n",
       "  </thead>\n",
       "  <tbody>\n",
       "    <tr>\n",
       "      <th>1186</th>\n",
       "      <td>bridge collapse  Ashes 2015: AustraliaÛªs col...</td>\n",
       "      <td>0</td>\n",
       "    </tr>\n",
       "    <tr>\n",
       "      <th>4071</th>\n",
       "      <td>hail Carol Stream, Illinois GREAT MICHIGAN TEC...</td>\n",
       "      <td>1</td>\n",
       "    </tr>\n",
       "    <tr>\n",
       "      <th>5461</th>\n",
       "      <td>police Houston  CNN: Tennessee movie theater s...</td>\n",
       "      <td>1</td>\n",
       "    </tr>\n",
       "    <tr>\n",
       "      <th>5787</th>\n",
       "      <td>rioting  Still rioting in a couple of hours le...</td>\n",
       "      <td>1</td>\n",
       "    </tr>\n",
       "    <tr>\n",
       "      <th>7445</th>\n",
       "      <td>wounds Lake Highlands Crack in the path where ...</td>\n",
       "      <td>0</td>\n",
       "    </tr>\n",
       "    <tr>\n",
       "      <th>...</th>\n",
       "      <td>...</td>\n",
       "      <td>...</td>\n",
       "    </tr>\n",
       "    <tr>\n",
       "      <th>5226</th>\n",
       "      <td>obliteration Merica! @Eganator2000 There aren'...</td>\n",
       "      <td>0</td>\n",
       "    </tr>\n",
       "    <tr>\n",
       "      <th>5390</th>\n",
       "      <td>panic  just had a panic attack bc I don't have...</td>\n",
       "      <td>0</td>\n",
       "    </tr>\n",
       "    <tr>\n",
       "      <th>860</th>\n",
       "      <td>blood  Omron HEM-712C Automatic Blood Pressure...</td>\n",
       "      <td>0</td>\n",
       "    </tr>\n",
       "    <tr>\n",
       "      <th>7603</th>\n",
       "      <td>Officials say a quarantine is in place at an...</td>\n",
       "      <td>1</td>\n",
       "    </tr>\n",
       "    <tr>\n",
       "      <th>7270</th>\n",
       "      <td>whirlwind Stamford &amp; Cork (&amp; Shropshire) I mov...</td>\n",
       "      <td>1</td>\n",
       "    </tr>\n",
       "  </tbody>\n",
       "</table>\n",
       "<p>5329 rows × 2 columns</p>\n",
       "</div>"
      ],
      "text/plain": [
       "                                                   text  target\n",
       "1186  bridge collapse  Ashes 2015: AustraliaÛªs col...       0\n",
       "4071  hail Carol Stream, Illinois GREAT MICHIGAN TEC...       1\n",
       "5461  police Houston  CNN: Tennessee movie theater s...       1\n",
       "5787  rioting  Still rioting in a couple of hours le...       1\n",
       "7445  wounds Lake Highlands Crack in the path where ...       0\n",
       "...                                                 ...     ...\n",
       "5226  obliteration Merica! @Eganator2000 There aren'...       0\n",
       "5390  panic  just had a panic attack bc I don't have...       0\n",
       "860   blood  Omron HEM-712C Automatic Blood Pressure...       0\n",
       "7603    Officials say a quarantine is in place at an...       1\n",
       "7270  whirlwind Stamford & Cork (& Shropshire) I mov...       1\n",
       "\n",
       "[5329 rows x 2 columns]"
      ]
     },
     "execution_count": 21,
     "metadata": {},
     "output_type": "execute_result"
    }
   ],
   "source": [
    "train"
   ]
  },
  {
   "cell_type": "markdown",
   "metadata": {},
   "source": [
    "## Задание 4 (0.5 балла)\n",
    "\n",
    "Далее мы будем пока работать только с train частью.\n",
    "\n",
    "1. Предобработайте данные (train часть) с помощью CountVectorizer.\n",
    "2. Какого размера получилась матрица?\n"
   ]
  },
  {
   "cell_type": "code",
   "execution_count": 22,
   "metadata": {},
   "outputs": [],
   "source": [
    "from sklearn.feature_extraction.text import CountVectorizer, TfidfVectorizer, HashingVectorizer"
   ]
  },
  {
   "cell_type": "code",
   "execution_count": 23,
   "metadata": {},
   "outputs": [
    {
     "data": {
      "text/plain": [
       "<5329x18425 sparse matrix of type '<class 'numpy.int64'>'\n",
       "\twith 85877 stored elements in Compressed Sparse Row format>"
      ]
     },
     "execution_count": 23,
     "metadata": {},
     "output_type": "execute_result"
    }
   ],
   "source": [
    "cnt_vec = CountVectorizer()\n",
    "X = cnt_vec.fit_transform(train['text'])\n",
    "X #размер матрицы 5329x18425, т.е. в ней 18425 различных уникальных слов/символов"
   ]
  },
  {
   "cell_type": "markdown",
   "metadata": {},
   "source": [
    "## Задание 5 (1 балл)\n",
    "\n",
    "В предыдущем пункте у вас должна была получиться достаточно большая матрица.\n",
    "Если вы взгляните на текст, то увидете, что там есть множество специальных символов, ссылок и прочего мусора.\n",
    "\n",
    "Давайте также посмотрим на словарь, который получился в результате построения CountVectorizer, его можно найти в поле vocabulary_ инстанса этого класса. Давайте напишем функцию, которая печает ответы на следующие вопросы:\n",
    "\n",
    "1. Найдите в этом словаре все слова, которые содержат цифры. Сколько таких слов нашлось?\n",
    "\n",
    "2. Найдите все слова, которые содержат символы пунктуации. Сколько таких слов нашлось? \n",
    "\n",
    "3. Сколько хэштегов (токен начинается на #) и упоминаний (токен начинается на @) осталось в словаре?"
   ]
  },
  {
   "cell_type": "code",
   "execution_count": 24,
   "metadata": {},
   "outputs": [],
   "source": [
    "def has_numbers(inputString: str)->bool:\n",
    "    return bool(re.search(r'\\d', inputString))\n",
    "def has_punc(inputString: str)->bool:\n",
    "    return bool(re.search(r'[!\"$%&\\'\\#\\@()*+, -./:;<=>?\\\\[\\]^_`{|}~]', inputString))\n",
    "def is_hashtag(inputString: str)->bool:\n",
    "    return bool(re.match(r'#.', inputString))\n",
    "def is_mention(inputString: str)->bool:\n",
    "    return bool(re.match(r'@.', inputString))"
   ]
  },
  {
   "cell_type": "code",
   "execution_count": 25,
   "metadata": {},
   "outputs": [
    {
     "name": "stdout",
     "output_type": "stream",
     "text": [
      "\tСлова, содержащие цифры:\n",
      "Уникальных слов:\t3782\n",
      "\tСлова, содержащие символы пунктуации:\n",
      "Уникальных слов:\t315\n",
      "\tХэштэги:\n",
      "Уникальных слов:\t0\n",
      "\tУпоминания:\n",
      "Уникальных слов:\t0\n"
     ]
    }
   ],
   "source": [
    "def count_stat3(voc: dict):\n",
    "    numbers = sum(list(map(has_numbers, voc.keys())))\n",
    "    punct = sum(list(map(has_punc, voc.keys())))\n",
    "    hashtags = sum(list(map(is_hashtag, voc.keys())))\n",
    "    mentions = sum(list(map(is_mention, voc.keys())))\n",
    "    return [numbers, punct, hashtags, mentions]\n",
    "\n",
    "def count_stat2(voc: dict):\n",
    "#     count_numb = 0\n",
    "    has_numb = 0\n",
    "#     count_punct = 0\n",
    "    has_punct = 0\n",
    "#     hashtags = 0\n",
    "    unique_hashtags = 0\n",
    "#     mentions = 0\n",
    "    unique_mentions = 0\n",
    "    for i in voc:\n",
    "        if has_numbers(i):\n",
    "            has_numb += 1\n",
    "#             count_numb += voc[i]\n",
    "        if has_punc(i):\n",
    "            has_punct += 1\n",
    "#             count_punct += voc[i]\n",
    "        if is_hashtag(i):\n",
    "            unique_hashtags+= 1\n",
    "#             hashtags += voc[i]\n",
    "        if is_mention(i):\n",
    "            unique_mentions += 1\n",
    "#             mentions += voc[i]\n",
    "    return [has_numb, has_punct, unique_hashtags, unique_mentions]\n",
    "#     return [(has_numb, count_numb), (has_punct, count_punct), (unique_hashtags, hashtags), (unique_mentions, mentions)]\n",
    "        \n",
    "\n",
    "def count_stat(voc: dict):\n",
    "    with_numbers = sum(1 for _ in filter(has_numbers, voc.keys()))\n",
    "    with_punc = sum(1 for _ in filter(has_punc, voc.keys()))\n",
    "    hashtags = sum(1 for _ in filter(is_hashtag, voc.keys()))\n",
    "    mentions = sum(1 for _ in filter(is_mention, voc.keys()))\n",
    "    \n",
    "    return [with_numbers, with_punc, hashtags, mentions]\n",
    "\n",
    "stat = count_stat(cnt_vec.vocabulary_ )\n",
    "labels = ['Слова, содержащие цифры:', 'Слова, содержащие символы пунктуации:', 'Хэштэги:', 'Упоминания:']\n",
    "for unique, label in zip(stat, labels):\n",
    "    print(f'\\t{label}\\nУникальных слов:\\t{unique}')#, всего их встречается в твитах:\\t{count}\\n')"
   ]
  },
  {
   "cell_type": "markdown",
   "metadata": {},
   "source": [
    "###### Просто из интереса для сравнения времени выполнения сделала три разных способа подсчета статистики: count_stat2 использует напрямую цикл for, и хотя код реально не самый красивый, но по времени он занимает не больше, чем методы **count_stat**  и count_stat3 со встроенными питоновскими функциями ( map/filter ), хотя в них по идее осуществляется минимум 4 цикла по всему словарю"
   ]
  },
  {
   "cell_type": "code",
   "execution_count": 26,
   "metadata": {
    "scrolled": true
   },
   "outputs": [
    {
     "name": "stdout",
     "output_type": "stream",
     "text": [
      "[3782, 315, 0, 0]\n",
      "CPU times: user 120 ms, sys: 4.21 ms, total: 124 ms\n",
      "Wall time: 143 ms\n"
     ]
    }
   ],
   "source": [
    "%%time\n",
    "print(count_stat3(cnt_vec.vocabulary_))"
   ]
  },
  {
   "cell_type": "code",
   "execution_count": 27,
   "metadata": {
    "scrolled": true
   },
   "outputs": [
    {
     "name": "stdout",
     "output_type": "stream",
     "text": [
      "[3782, 315, 0, 0]\n",
      "CPU times: user 122 ms, sys: 4.07 ms, total: 126 ms\n",
      "Wall time: 137 ms\n"
     ]
    }
   ],
   "source": [
    "%%time\n",
    "print(count_stat2(cnt_vec.vocabulary_))"
   ]
  },
  {
   "cell_type": "code",
   "execution_count": 28,
   "metadata": {},
   "outputs": [
    {
     "name": "stdout",
     "output_type": "stream",
     "text": [
      "[3782, 315, 0, 0]\n",
      "CPU times: user 110 ms, sys: 4.21 ms, total: 114 ms\n",
      "Wall time: 120 ms\n"
     ]
    }
   ],
   "source": [
    "%%time\n",
    "print(count_stat(cnt_vec.vocabulary_))"
   ]
  },
  {
   "cell_type": "markdown",
   "metadata": {},
   "source": [
    "## Задание 6 (0.5 балла)\n",
    "\n",
    "Вспомним, что на семинаре по текстам мы узнали, что в nltk есть специальный токенизатор для текстов - TweetTokenizer. Попробуем применить CountVectorizer с этим токенизатором. Ответьте на все вопросы из предыдущего пункта для TweetTokenizer и сравните результаты."
   ]
  },
  {
   "cell_type": "code",
   "execution_count": 29,
   "metadata": {},
   "outputs": [
    {
     "data": {
      "text/plain": [
       "<5329x19638 sparse matrix of type '<class 'numpy.int64'>'\n",
       "\twith 92959 stored elements in Compressed Sparse Row format>"
      ]
     },
     "execution_count": 29,
     "metadata": {},
     "output_type": "execute_result"
    }
   ],
   "source": [
    "from nltk.tokenize import TweetTokenizer\n",
    "# Чтобы узнать, какие параметры есть у этого токенайзера - используйте help(TweetTokenizer)\n",
    "# Для того, чтобы передать токенайзер в CountVectorizer используйте параметр tokenizer\n",
    "tw = TweetTokenizer()\n",
    "cnt_vec_tw = CountVectorizer(tokenizer=tw.tokenize)\n",
    "X2 = cnt_vec_tw.fit_transform(train['text'])\n",
    "X2 # токенов стало больше, теперь 19638"
   ]
  },
  {
   "cell_type": "code",
   "execution_count": 30,
   "metadata": {
    "scrolled": true
   },
   "outputs": [
    {
     "name": "stdout",
     "output_type": "stream",
     "text": [
      "\tСлова, содержащие цифры:\n",
      "Уникальных слов:\t3910\n",
      "\tСлова, содержащие символы пунктуации:\n",
      "Уникальных слов:\t7339\n",
      "\tХэштэги:\n",
      "Уникальных слов:\t1469\n",
      "\tУпоминания:\n",
      "Уникальных слов:\t1678\n"
     ]
    }
   ],
   "source": [
    "stat2 = count_stat(cnt_vec_tw.vocabulary_ )\n",
    "for count, label in zip(stat2, labels):\n",
    "    print(f'\\t{label}\\nУникальных слов:\\t{count}')"
   ]
  },
  {
   "cell_type": "markdown",
   "metadata": {},
   "source": [
    "## Задание 7 (2 балла)\n",
    "\n",
    "В scikit-learn мы можем оценивать процесс подсчета матрицы через CountVectorizer. У CountVectorizer, как и у других наследников \\_VectorizerMixin, есть аргумент tokenizer и preprocessor. preprocessor применится в самом начале к каждой строке вашего датасета, tokenizer же должен принять строку и вернуть токены.\n",
    "Давайте напишем кастомный токенайзер, которые сделает все, что нам нужно: \n",
    "\n",
    "0. Приведет все буквы к нижнему регистру\n",
    "1. Разобьет текст на токены с помощью TweetTokenizer из пакета nltk\n",
    "2. Удалит все токены содержащие не латинские буквы, кроме смайликов (будем считать ими токены содержащие только пунктуацию и, как минимум, одну скобочку) и хэштегов, которые после начальной # содержат только латинские буквы.\n",
    "3. Удалит все токены, которые перечислены в nltk.corpus.stopwords.words('english')\n",
    "4. Проведет стемминг с помощью SnowballStemmer\n",
    "\n",
    "Продемонстрируйте работу вашей функции на первых десяти текстах в обучающей выборке."
   ]
  },
  {
   "cell_type": "code",
   "execution_count": 31,
   "metadata": {},
   "outputs": [],
   "source": [
    "from nltk.corpus import stopwords\n",
    "from nltk.stem.snowball import SnowballStemmer"
   ]
  },
  {
   "cell_type": "code",
   "execution_count": 32,
   "metadata": {},
   "outputs": [],
   "source": [
    "stop_words = stopwords.words('english')"
   ]
  },
  {
   "cell_type": "code",
   "execution_count": 33,
   "metadata": {},
   "outputs": [],
   "source": [
    "# возвращает true, если есть символы кроме латинских букв\n",
    "def nonlatin_letters(string:str)->bool:\n",
    "    return bool(re.search(r'([^a-zA-Z])', string))\n",
    "\n",
    "#так как твиты английские (не на иврите/арабском))) и нам надо считать за смайлики только токены, содержащие скобочку, \n",
    "# я допускаю эту скобочку только в конце токена\n",
    "def is_smile(inputString: str)->bool: \n",
    "    return bool(re.search(r'^[^\\w\\n]*[()]+$', inputString))\n",
    "\n",
    "# возвращает true, только если это хэштег, содержащий только латинские буквы и нижнее подчеркивание (часто встречается в хэштегах)\n",
    "def is_hashtag(inputString: str)->bool:\n",
    "    return bool(re.match(r'#[a-zA-Z_]+$', inputString))\n",
    "\n",
    "def valid_token(inputString: str)->bool:\n",
    "    if nonlatin_letters(inputString):\n",
    "        if is_hashtag(inputString) or is_smile(inputString):\n",
    "            return True\n",
    "    elif inputString in stop_words:\n",
    "            return False\n",
    "    else:\n",
    "        return True\n",
    "        \n",
    "# def custom_tokenizer2(stopwords, string: str):\n",
    "#     string = string.lower() #make all lower case\n",
    "#     twt = TweetTokenizer()\n",
    "#     stemmer = SnowballStemmer('english')\n",
    "#     tokens = twt.tokenize(string)\n",
    "#     i = len(tokens)\n",
    "\n",
    "#     while i > 0:\n",
    "#         token = tokens[i-1]\n",
    "#         if nonlatin_letters(token):\n",
    "#             if not is_smile(token) and not is_hashtag(token):\n",
    "#                 del tokens[i-1]\n",
    "#         elif token in stopwords:\n",
    "#                 del tokens[i-1]\n",
    "#         i -= 1\n",
    "#     stemmed = [stemmer.stem(w) for w in tokens]\n",
    "    \n",
    "#     return stemmed\n",
    "\n",
    "def custom_tokenizer(string: str):\n",
    "    string = string.lower() #make all lower case\n",
    "    twt = TweetTokenizer()\n",
    "\n",
    "    tokens = twt.tokenize(string) # токенизируем\n",
    "    filtered = filter(valid_token, tokens) #фильтруем , убирая все слова из стоп-слов и содержащие нелатинские буквы, кроме хэштегов и смайлов\n",
    "    \n",
    "    stemmer = SnowballStemmer('english')\n",
    "    stemmed = [stemmer.stem(w) for w in filtered]\n",
    "    return stemmed\n"
   ]
  },
  {
   "cell_type": "code",
   "execution_count": 34,
   "metadata": {},
   "outputs": [
    {
     "name": "stdout",
     "output_type": "stream",
     "text": [
      "\tИзначальный текст:\n",
      "bridge collapse  Ashes 2015: AustraliaÛªs collapse at Trent Bridge among worst in history: England bundled out Australia for 60 ... http://t.co/t5TrhjUAU0\n",
      "\tПосле обработки:\n",
      "['bridg', 'collaps', 'ash', 'australia', 'collaps', 'trent', 'bridg', 'among', 'worst', 'histori', 'england', 'bundl', 'australia']\n",
      "\n",
      "\tИзначальный текст:\n",
      "hail Carol Stream, Illinois GREAT MICHIGAN TECHNIQUE CAMP\n",
      "B1G THANKS TO @bmurph1019 \n",
      "@hail_Youtsey . @termn8r13 \n",
      "#GoBlue #WrestleOn http://t.co/OasKgki6Qj\n",
      "\tПосле обработки:\n",
      "['hail', 'carol', 'stream', 'illinoi', 'great', 'michigan', 'techniqu', 'camp', 'thank', '#goblu', '#wrestleon']\n",
      "\n",
      "\tИзначальный текст:\n",
      "police Houston  CNN: Tennessee movie theater shooting suspect killed by police http://t.co/dI8ElZsWNR\n",
      "\tПосле обработки:\n",
      "['polic', 'houston', 'cnn', 'tennesse', 'movi', 'theater', 'shoot', 'suspect', 'kill', 'polic']\n",
      "\n",
      "\tИзначальный текст:\n",
      "rioting  Still rioting in a couple of hours left until I have to be up for class.\n",
      "\tПосле обработки:\n",
      "['riot', 'still', 'riot', 'coupl', 'hour', 'left', 'class']\n",
      "\n",
      "\tИзначальный текст:\n",
      "wounds Lake Highlands Crack in the path where I wiped out this morning during beach run. Surface wounds on left elbow and right knee. http://t.co/yaqRSximph\n",
      "\tПосле обработки:\n",
      "['wound', 'lake', 'highland', 'crack', 'path', 'wipe', 'morn', 'beach', 'run', 'surfac', 'wound', 'left', 'elbow', 'right', 'knee']\n",
      "\n",
      "\tИзначальный текст:\n",
      "airplane accident Somewhere Out There Experts in France begin examining airplane debris found on Reunion Island: French air accident experts on... http://t.co/TagZbcXFj0 #MLB\n",
      "\tПосле обработки:\n",
      "['airplan', 'accid', 'somewher', 'expert', 'franc', 'begin', 'examin', 'airplan', 'debri', 'found', 'reunion', 'island', 'french', 'air', 'accid', 'expert', '#mlb']\n",
      "\n",
      "\tИзначальный текст:\n",
      "bloody Isolated City In World Perth 'I came to kill Indians...for FUN': Video of smirking and remorseless Pakistani killer shows him boasting. http://t.co/FPjLwOXKlg\n",
      "\tПосле обработки:\n",
      "['bloodi', 'isol', 'citi', 'world', 'perth', 'came', 'kill', 'indian', 'fun', 'video', 'smirk', 'remorseless', 'pakistani', 'killer', 'show', 'boast']\n",
      "\n",
      "\tИзначальный текст:\n",
      "burning  @JohnsonTionne except idk them?? it's really burning ??????\n",
      "\tПосле обработки:\n",
      "['burn', 'except', 'idk', 'realli', 'burn']\n",
      "\n",
      "\tИзначальный текст:\n",
      "destroy he/him or she/her (ask) destroy the house\n",
      "\tПосле обработки:\n",
      "['destroy', '(', 'ask', ')', 'destroy', 'hous']\n",
      "\n",
      "\tИзначальный текст:\n",
      "wounded Maracay y Nirgua, Venezuela Police Officer Wounded Suspect Dead After Exchanging Shots http://t.co/XxFk4KHbIw\n",
      "\tПосле обработки:\n",
      "['wound', 'maracay', 'nirgua', 'venezuela', 'polic', 'offic', 'wound', 'suspect', 'dead', 'exchang', 'shot']\n",
      "\n"
     ]
    }
   ],
   "source": [
    "texts = train['text'].head(10).values\n",
    "for i in texts:\n",
    "    print(f\"\\tИзначальный текст:\\n{i}\\n\\tПосле обработки:\\n{custom_tokenizer(i)}\\n\")"
   ]
  },
  {
   "cell_type": "markdown",
   "metadata": {},
   "source": [
    "## Задание 8 (1 балл)\n",
    "\n",
    "1. Примените CountVectorizer с реализованным выше токенизатором к обучающим и тестовым выборкам.\n",
    "2. Обучите LogisticRegression на полученных признаках.\n",
    "3. Посчитайте метрику f1-score на тестовых данных."
   ]
  },
  {
   "cell_type": "code",
   "execution_count": 35,
   "metadata": {},
   "outputs": [],
   "source": [
    "from sklearn.linear_model import LogisticRegression\n",
    "from sklearn.metrics import classification_report\n",
    "from sklearn.metrics import f1_score"
   ]
  },
  {
   "cell_type": "code",
   "execution_count": 36,
   "metadata": {},
   "outputs": [],
   "source": [
    "cnt_vec_custom = CountVectorizer(tokenizer=custom_tokenizer)\n",
    "train_txt = cnt_vec_custom.fit_transform(train['text'])\n",
    "test_txt = cnt_vec_custom.transform(test['text'])"
   ]
  },
  {
   "cell_type": "code",
   "execution_count": 37,
   "metadata": {},
   "outputs": [
    {
     "name": "stdout",
     "output_type": "stream",
     "text": [
      "              precision    recall  f1-score   support\n",
      "\n",
      "           0       0.81      0.86      0.83      1318\n",
      "           1       0.79      0.72      0.75       966\n",
      "\n",
      "    accuracy                           0.80      2284\n",
      "   macro avg       0.80      0.79      0.79      2284\n",
      "weighted avg       0.80      0.80      0.80      2284\n",
      "\n",
      "F1-score with CountVectorizer:  0.75364\n"
     ]
    }
   ],
   "source": [
    "clf = LogisticRegression(random_state=13).fit(train_txt, train['target'])\n",
    "pred = clf.predict(test_txt)\n",
    "print(classification_report(test['target'], pred))\n",
    "print('F1-score with CountVectorizer: ', round(f1_score(test['target'], pred), 5))"
   ]
  },
  {
   "cell_type": "markdown",
   "metadata": {},
   "source": [
    "## Задание 9 (1 балл)\n",
    "\n",
    "1. Повторите 7 задание, но с tf-idf векторизатором. Как изменилось качество?\n",
    "2. Мы можем еще сильнее уменьшить размер нашей матрицы, если отбросим значения df близкие к единице. Скорее всего такие слова не несут много информации о категории, так как встречаются достаточно часто. Ограничьте максимальный df в параметрах TfIdfVectorizer, поставьте верхнюю границу равную 0.9. Как изменился размер матрицы, как изменилось качество?\n",
    "3. Также мы можем уменьшить размер матрицы, удаляя слова со слишком маленьким df. Удалось ли добиться улучшения качества? "
   ]
  },
  {
   "cell_type": "code",
   "execution_count": 38,
   "metadata": {},
   "outputs": [
    {
     "name": "stdout",
     "output_type": "stream",
     "text": [
      "              precision    recall  f1-score   support\n",
      "\n",
      "           0       0.80      0.87      0.83      1318\n",
      "           1       0.80      0.69      0.74       966\n",
      "\n",
      "    accuracy                           0.80      2284\n",
      "   macro avg       0.80      0.78      0.79      2284\n",
      "weighted avg       0.80      0.80      0.79      2284\n",
      "\n",
      "F1-score with TfidfVectorizer:  0.74349\n"
     ]
    }
   ],
   "source": [
    "tfidf_vec = TfidfVectorizer(tokenizer=custom_tokenizer)\n",
    "train_tfidf = tfidf_vec.fit_transform(train['text'])\n",
    "test_tfidf = tfidf_vec.transform(test['text'])\n",
    "clf_tfidf = LogisticRegression(random_state=13).fit(train_tfidf, train['target'])\n",
    "pred2 = clf_tfidf.predict(test_tfidf)\n",
    "print(classification_report(test['target'], pred2))\n",
    "print('F1-score with TfidfVectorizer: ', round(f1_score(test['target'], pred2), 5))"
   ]
  },
  {
   "cell_type": "code",
   "execution_count": 39,
   "metadata": {},
   "outputs": [
    {
     "data": {
      "text/plain": [
       "<5329x10481 sparse matrix of type '<class 'numpy.float64'>'\n",
       "\twith 50966 stored elements in Compressed Sparse Row format>"
      ]
     },
     "execution_count": 39,
     "metadata": {},
     "output_type": "execute_result"
    }
   ],
   "source": [
    "train_tfidf"
   ]
  },
  {
   "cell_type": "markdown",
   "metadata": {},
   "source": [
    "###### Качество метрики f1-score изменилось в худшую сторону на 0.01. Изменение не самое внушительное)"
   ]
  },
  {
   "cell_type": "code",
   "execution_count": 40,
   "metadata": {
    "scrolled": true
   },
   "outputs": [
    {
     "name": "stdout",
     "output_type": "stream",
     "text": [
      "              precision    recall  f1-score   support\n",
      "\n",
      "           0       0.80      0.87      0.83      1318\n",
      "           1       0.80      0.69      0.74       966\n",
      "\n",
      "    accuracy                           0.80      2284\n",
      "   macro avg       0.80      0.78      0.79      2284\n",
      "weighted avg       0.80      0.80      0.79      2284\n",
      "\n",
      "F1-score with TfidfVectorizer and max_df=0.9:  0.74349\n"
     ]
    }
   ],
   "source": [
    "tfidf_vec2 = TfidfVectorizer(tokenizer=custom_tokenizer, max_df=0.9)\n",
    "train2_tfidf = tfidf_vec2.fit_transform(train['text'])\n",
    "test2_tfidf = tfidf_vec2.transform(test['text'])\n",
    "clf2_tfidf = LogisticRegression(random_state=13).fit(train2_tfidf, train['target'])\n",
    "pred2 = clf2_tfidf.predict(test2_tfidf)\n",
    "print(classification_report(test['target'], pred2))\n",
    "print('F1-score with TfidfVectorizer and max_df=0.9: ', round(f1_score(test['target'], pred2), 5))"
   ]
  },
  {
   "cell_type": "code",
   "execution_count": 41,
   "metadata": {},
   "outputs": [
    {
     "data": {
      "text/plain": [
       "<5329x10481 sparse matrix of type '<class 'numpy.float64'>'\n",
       "\twith 50966 stored elements in Compressed Sparse Row format>"
      ]
     },
     "execution_count": 41,
     "metadata": {},
     "output_type": "execute_result"
    }
   ],
   "source": [
    "train2_tfidf"
   ]
  },
  {
   "cell_type": "markdown",
   "metadata": {},
   "source": [
    "###### абсолютно ничего не меняется ни для f1-score, ни для размера матрицы. даже если ставить max_df сильно меньше, все равно никаких изменений, так как максимальные значения df для этой матрицы вообще находятся в районе 0.1"
   ]
  },
  {
   "cell_type": "code",
   "execution_count": 42,
   "metadata": {},
   "outputs": [
    {
     "name": "stdout",
     "output_type": "stream",
     "text": [
      "              precision    recall  f1-score   support\n",
      "\n",
      "           0       0.80      0.87      0.83      1318\n",
      "           1       0.80      0.70      0.75       966\n",
      "\n",
      "    accuracy                           0.80      2284\n",
      "   macro avg       0.80      0.79      0.79      2284\n",
      "weighted avg       0.80      0.80      0.80      2284\n",
      "\n",
      "F1-score with TfidfVectorizer and min_df=0.0003:  0.74599\n"
     ]
    }
   ],
   "source": [
    "# попробуем поменять нижнюю границу\n",
    "tfidf_vec2 = TfidfVectorizer(tokenizer=custom_tokenizer, min_df=0.0003)\n",
    "train2_tfidf = tfidf_vec2.fit_transform(train['text'])\n",
    "test2_tfidf = tfidf_vec2.transform(test['text'])\n",
    "clf2_tfidf = LogisticRegression(random_state=13).fit(train2_tfidf, train['target'])\n",
    "pred2 = clf2_tfidf.predict(test2_tfidf)\n",
    "print(classification_report(test['target'], pred2))\n",
    "print('F1-score with TfidfVectorizer and min_df=0.0003: ',round(f1_score(test['target'], pred2), 5))"
   ]
  },
  {
   "cell_type": "code",
   "execution_count": 43,
   "metadata": {},
   "outputs": [
    {
     "data": {
      "text/plain": [
       "<5329x4522 sparse matrix of type '<class 'numpy.float64'>'\n",
       "\twith 45007 stored elements in Compressed Sparse Row format>"
      ]
     },
     "execution_count": 43,
     "metadata": {},
     "output_type": "execute_result"
    }
   ],
   "source": [
    "train2_tfidf"
   ]
  },
  {
   "cell_type": "markdown",
   "metadata": {},
   "source": [
    "###### Размер матрицы уменьшился, f1-score улучшился на ~0.0025 по сравнению с дефолтными значениями min/max_df"
   ]
  },
  {
   "cell_type": "markdown",
   "metadata": {},
   "source": [
    "## Задание 10 (1 балл)\n",
    "\n",
    "Еще один популяпный трюк, который позволит уменьшить количество признаков называется hashing trick. Его суть в том, то мы случайно группируем признаки ииии  ..... складываем их! А потом удаляем исходные признаки. В итоге все наши признаки это просто суммы исходных. Звучит странно, но это отлично работает. Давайте проверим этот трюк в нашем сеттинге.\n",
    "Также при таком подходе вам не нужно хранить словарь token->index, что тоже иногда полезно.\n",
    "\n",
    "1. Повторите задание 7 с HashingVectorizer, укажите количество фичей равное 5000.\n",
    "2. Какой из подходов показал самый высокий результат?"
   ]
  },
  {
   "cell_type": "code",
   "execution_count": 44,
   "metadata": {
    "scrolled": true
   },
   "outputs": [
    {
     "name": "stderr",
     "output_type": "stream",
     "text": [
      "/Users/zhenyadubnova/opt/anaconda3/lib/python3.7/site-packages/sklearn/feature_extraction/text.py:507: UserWarning: The parameter 'token_pattern' will not be used since 'tokenizer' is not None'\n",
      "  warnings.warn(\"The parameter 'token_pattern' will not be used\"\n"
     ]
    },
    {
     "name": "stdout",
     "output_type": "stream",
     "text": [
      "              precision    recall  f1-score   support\n",
      "\n",
      "           0       0.78      0.86      0.82      1318\n",
      "           1       0.79      0.67      0.73       966\n",
      "\n",
      "    accuracy                           0.78      2284\n",
      "   macro avg       0.78      0.77      0.77      2284\n",
      "weighted avg       0.78      0.78      0.78      2284\n",
      "\n",
      "F1-score with HashingVectorizer:  0.72606\n"
     ]
    }
   ],
   "source": [
    "hash_vc = HashingVectorizer(n_features=5000, tokenizer=custom_tokenizer)\n",
    "train_hash = hash_vc.fit_transform(train['text'])\n",
    "test_hash = hash_vc.transform(test['text'])\n",
    "clf3_hash = LogisticRegression(random_state=13).fit(train_hash, train['target'])\n",
    "pred3 = clf3_hash.predict(test_hash)\n",
    "print(classification_report(test['target'], pred3))\n",
    "print('F1-score with HashingVectorizer: ', round(f1_score(test['target'], pred3), 5))"
   ]
  },
  {
   "cell_type": "markdown",
   "metadata": {},
   "source": [
    "###### Лучший результат показал первый подход: через CountVectorizer"
   ]
  },
  {
   "cell_type": "markdown",
   "metadata": {},
   "source": [
    "## Задание 11 (1 балл)\n",
    "\n",
    "В этом задании нужно добиться f1 меры хотя в 0.75 на тестовых данных."
   ]
  },
  {
   "cell_type": "markdown",
   "metadata": {},
   "source": [
    "###### С CountVectorizer f1-score уже был > 0.75, но я попробовала покрутить разные параметры логрега, чтобы немного улучшить метрику"
   ]
  },
  {
   "cell_type": "code",
   "execution_count": 45,
   "metadata": {},
   "outputs": [
    {
     "name": "stdout",
     "output_type": "stream",
     "text": [
      "              precision    recall  f1-score   support\n",
      "\n",
      "           0       0.82      0.83      0.83      1318\n",
      "           1       0.77      0.76      0.76       966\n",
      "\n",
      "    accuracy                           0.80      2284\n",
      "   macro avg       0.80      0.80      0.80      2284\n",
      "weighted avg       0.80      0.80      0.80      2284\n",
      "\n",
      "F1-score:  0.764\n"
     ]
    }
   ],
   "source": [
    "cnt_vec_custom = CountVectorizer(tokenizer=custom_tokenizer)\n",
    "train_txt = cnt_vec_custom.fit_transform(train['text'])\n",
    "test_txt = cnt_vec_custom.transform(test['text'])\n",
    "clf = LogisticRegression(max_iter=300, C=0.5, class_weight ='balanced', random_state=100).fit(train_txt, train['target'])\n",
    "pred = clf.predict(test_txt)\n",
    "target = 'target'\n",
    "print(classification_report(test['target'], pred))\n",
    "print('F1-score: ', f'{f1_score(test[target], pred):.3f}')\n",
    "# print(f'F1-score: {f1_score(test['target'], pred)}')#:.3f}')"
   ]
  }
 ],
 "metadata": {
  "kernelspec": {
   "display_name": "Python 3 (ipykernel)",
   "language": "python",
   "name": "python3"
  },
  "language_info": {
   "codemirror_mode": {
    "name": "ipython",
    "version": 3
   },
   "file_extension": ".py",
   "mimetype": "text/x-python",
   "name": "python",
   "nbconvert_exporter": "python",
   "pygments_lexer": "ipython3",
   "version": "3.10.3"
  }
 },
 "nbformat": 4,
 "nbformat_minor": 2
}
