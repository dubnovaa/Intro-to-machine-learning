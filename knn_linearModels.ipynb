{
 "cells": [
  {
   "cell_type": "markdown",
   "metadata": {},
   "source": [
    "## Интеллектуальный анализ данных – весна 2022\n",
    "## Домашнее задание 4: kNN. Линейные модели. Работа с признаками"
   ]
  },
  {
   "cell_type": "markdown",
   "metadata": {},
   "source": [
    "Правила:\n",
    "\n",
    "* Домашнее задание оценивается в 10 баллов.\n",
    "\n",
    "* Можно использовать без доказательства любые результаты, встречавшиеся на лекциях или семинарах по курсу, если получение этих результатов не является вопросом задания.\n",
    "\n",
    "* Можно использовать любые свободные источники с *обязательным* указанием ссылки на них.\n",
    "\n",
    "* Плагиат не допускается. При обнаружении случаев списывания, 0 за работу выставляется всем участникам нарушения, даже если можно установить, кто у кого списал.\n",
    "\n",
    "* Старайтесь сделать код как можно более оптимальным. В частности, будет штрафоваться использование циклов в тех случаях, когда операцию можно совершить при помощи инструментов библиотек, о которых рассказывалось в курсе.  "
   ]
  },
  {
   "cell_type": "markdown",
   "metadata": {},
   "source": [
    "### Задание 1:  Визуализация решающих поверхностей в kNN."
   ]
  },
  {
   "cell_type": "markdown",
   "metadata": {},
   "source": [
    "В этом задании мы изобразим решающую поверхность для классификатора kNN, чтобы наглядно увидеть, как классификатор принимает решения для новых объектов. Для простоты будем работать со встроенным в `sklearn` набором данных `wine`, содержащим информацию о характеристиках трёх видов вина. Описание набора можно найти [здесь](https://scikit-learn.org/stable/modules/generated/sklearn.datasets.load_wine.html#sklearn.datasets.load_wine) и [здесь](https://rdrr.io/cran/rattle.data/man/wine.html). "
   ]
  },
  {
   "cell_type": "markdown",
   "metadata": {},
   "source": [
    "Загрузим набор данных и сохраним информацию о признаках в переменную `X`, а о зависимой переменной – в переменную `y`."
   ]
  },
  {
   "cell_type": "code",
   "execution_count": 1,
   "metadata": {},
   "outputs": [],
   "source": [
    "import numpy as np\n",
    "import pandas as pd\n",
    "import matplotlib.pyplot as plt"
   ]
  },
  {
   "cell_type": "code",
   "execution_count": 2,
   "metadata": {},
   "outputs": [
    {
     "data": {
      "text/html": [
       "<div>\n",
       "<style scoped>\n",
       "    .dataframe tbody tr th:only-of-type {\n",
       "        vertical-align: middle;\n",
       "    }\n",
       "\n",
       "    .dataframe tbody tr th {\n",
       "        vertical-align: top;\n",
       "    }\n",
       "\n",
       "    .dataframe thead th {\n",
       "        text-align: right;\n",
       "    }\n",
       "</style>\n",
       "<table border=\"1\" class=\"dataframe\">\n",
       "  <thead>\n",
       "    <tr style=\"text-align: right;\">\n",
       "      <th></th>\n",
       "      <th>alcohol</th>\n",
       "      <th>malic_acid</th>\n",
       "      <th>ash</th>\n",
       "      <th>alcalinity_of_ash</th>\n",
       "      <th>magnesium</th>\n",
       "      <th>total_phenols</th>\n",
       "      <th>flavanoids</th>\n",
       "      <th>nonflavanoid_phenols</th>\n",
       "      <th>proanthocyanins</th>\n",
       "      <th>color_intensity</th>\n",
       "      <th>hue</th>\n",
       "      <th>od280/od315_of_diluted_wines</th>\n",
       "      <th>proline</th>\n",
       "    </tr>\n",
       "  </thead>\n",
       "  <tbody>\n",
       "    <tr>\n",
       "      <th>0</th>\n",
       "      <td>14.23</td>\n",
       "      <td>1.71</td>\n",
       "      <td>2.43</td>\n",
       "      <td>15.6</td>\n",
       "      <td>127.0</td>\n",
       "      <td>2.80</td>\n",
       "      <td>3.06</td>\n",
       "      <td>0.28</td>\n",
       "      <td>2.29</td>\n",
       "      <td>5.64</td>\n",
       "      <td>1.04</td>\n",
       "      <td>3.92</td>\n",
       "      <td>1065.0</td>\n",
       "    </tr>\n",
       "    <tr>\n",
       "      <th>1</th>\n",
       "      <td>13.20</td>\n",
       "      <td>1.78</td>\n",
       "      <td>2.14</td>\n",
       "      <td>11.2</td>\n",
       "      <td>100.0</td>\n",
       "      <td>2.65</td>\n",
       "      <td>2.76</td>\n",
       "      <td>0.26</td>\n",
       "      <td>1.28</td>\n",
       "      <td>4.38</td>\n",
       "      <td>1.05</td>\n",
       "      <td>3.40</td>\n",
       "      <td>1050.0</td>\n",
       "    </tr>\n",
       "    <tr>\n",
       "      <th>2</th>\n",
       "      <td>13.16</td>\n",
       "      <td>2.36</td>\n",
       "      <td>2.67</td>\n",
       "      <td>18.6</td>\n",
       "      <td>101.0</td>\n",
       "      <td>2.80</td>\n",
       "      <td>3.24</td>\n",
       "      <td>0.30</td>\n",
       "      <td>2.81</td>\n",
       "      <td>5.68</td>\n",
       "      <td>1.03</td>\n",
       "      <td>3.17</td>\n",
       "      <td>1185.0</td>\n",
       "    </tr>\n",
       "    <tr>\n",
       "      <th>3</th>\n",
       "      <td>14.37</td>\n",
       "      <td>1.95</td>\n",
       "      <td>2.50</td>\n",
       "      <td>16.8</td>\n",
       "      <td>113.0</td>\n",
       "      <td>3.85</td>\n",
       "      <td>3.49</td>\n",
       "      <td>0.24</td>\n",
       "      <td>2.18</td>\n",
       "      <td>7.80</td>\n",
       "      <td>0.86</td>\n",
       "      <td>3.45</td>\n",
       "      <td>1480.0</td>\n",
       "    </tr>\n",
       "    <tr>\n",
       "      <th>4</th>\n",
       "      <td>13.24</td>\n",
       "      <td>2.59</td>\n",
       "      <td>2.87</td>\n",
       "      <td>21.0</td>\n",
       "      <td>118.0</td>\n",
       "      <td>2.80</td>\n",
       "      <td>2.69</td>\n",
       "      <td>0.39</td>\n",
       "      <td>1.82</td>\n",
       "      <td>4.32</td>\n",
       "      <td>1.04</td>\n",
       "      <td>2.93</td>\n",
       "      <td>735.0</td>\n",
       "    </tr>\n",
       "    <tr>\n",
       "      <th>5</th>\n",
       "      <td>14.20</td>\n",
       "      <td>1.76</td>\n",
       "      <td>2.45</td>\n",
       "      <td>15.2</td>\n",
       "      <td>112.0</td>\n",
       "      <td>3.27</td>\n",
       "      <td>3.39</td>\n",
       "      <td>0.34</td>\n",
       "      <td>1.97</td>\n",
       "      <td>6.75</td>\n",
       "      <td>1.05</td>\n",
       "      <td>2.85</td>\n",
       "      <td>1450.0</td>\n",
       "    </tr>\n",
       "    <tr>\n",
       "      <th>6</th>\n",
       "      <td>14.39</td>\n",
       "      <td>1.87</td>\n",
       "      <td>2.45</td>\n",
       "      <td>14.6</td>\n",
       "      <td>96.0</td>\n",
       "      <td>2.50</td>\n",
       "      <td>2.52</td>\n",
       "      <td>0.30</td>\n",
       "      <td>1.98</td>\n",
       "      <td>5.25</td>\n",
       "      <td>1.02</td>\n",
       "      <td>3.58</td>\n",
       "      <td>1290.0</td>\n",
       "    </tr>\n",
       "    <tr>\n",
       "      <th>7</th>\n",
       "      <td>14.06</td>\n",
       "      <td>2.15</td>\n",
       "      <td>2.61</td>\n",
       "      <td>17.6</td>\n",
       "      <td>121.0</td>\n",
       "      <td>2.60</td>\n",
       "      <td>2.51</td>\n",
       "      <td>0.31</td>\n",
       "      <td>1.25</td>\n",
       "      <td>5.05</td>\n",
       "      <td>1.06</td>\n",
       "      <td>3.58</td>\n",
       "      <td>1295.0</td>\n",
       "    </tr>\n",
       "  </tbody>\n",
       "</table>\n",
       "</div>"
      ],
      "text/plain": [
       "   alcohol  malic_acid   ash  alcalinity_of_ash  magnesium  total_phenols  \\\n",
       "0    14.23        1.71  2.43               15.6      127.0           2.80   \n",
       "1    13.20        1.78  2.14               11.2      100.0           2.65   \n",
       "2    13.16        2.36  2.67               18.6      101.0           2.80   \n",
       "3    14.37        1.95  2.50               16.8      113.0           3.85   \n",
       "4    13.24        2.59  2.87               21.0      118.0           2.80   \n",
       "5    14.20        1.76  2.45               15.2      112.0           3.27   \n",
       "6    14.39        1.87  2.45               14.6       96.0           2.50   \n",
       "7    14.06        2.15  2.61               17.6      121.0           2.60   \n",
       "\n",
       "   flavanoids  nonflavanoid_phenols  proanthocyanins  color_intensity   hue  \\\n",
       "0        3.06                  0.28             2.29             5.64  1.04   \n",
       "1        2.76                  0.26             1.28             4.38  1.05   \n",
       "2        3.24                  0.30             2.81             5.68  1.03   \n",
       "3        3.49                  0.24             2.18             7.80  0.86   \n",
       "4        2.69                  0.39             1.82             4.32  1.04   \n",
       "5        3.39                  0.34             1.97             6.75  1.05   \n",
       "6        2.52                  0.30             1.98             5.25  1.02   \n",
       "7        2.51                  0.31             1.25             5.05  1.06   \n",
       "\n",
       "   od280/od315_of_diluted_wines  proline  \n",
       "0                          3.92   1065.0  \n",
       "1                          3.40   1050.0  \n",
       "2                          3.17   1185.0  \n",
       "3                          3.45   1480.0  \n",
       "4                          2.93    735.0  \n",
       "5                          2.85   1450.0  \n",
       "6                          3.58   1290.0  \n",
       "7                          3.58   1295.0  "
      ]
     },
     "execution_count": 2,
     "metadata": {},
     "output_type": "execute_result"
    }
   ],
   "source": [
    "from sklearn.datasets import load_wine\n",
    "\n",
    "data = load_wine()\n",
    "X = pd.DataFrame(data['data'], columns = data['feature_names'])\n",
    "y = data['target']\n",
    "X.head(8)"
   ]
  },
  {
   "cell_type": "markdown",
   "metadata": {},
   "source": [
    "**Задача 1.1 (0.5 балла)** Есть ли в наборе данных пропущенные значения? Если да, то удалите их. Есть ли в наборе данных категориальные переменные? Если да, то закодируйте их при помощи OneHot-кодирования."
   ]
  },
  {
   "cell_type": "code",
   "execution_count": 3,
   "metadata": {},
   "outputs": [
    {
     "data": {
      "text/plain": [
       "alcohol                         False\n",
       "malic_acid                      False\n",
       "ash                             False\n",
       "alcalinity_of_ash               False\n",
       "magnesium                       False\n",
       "total_phenols                   False\n",
       "flavanoids                      False\n",
       "nonflavanoid_phenols            False\n",
       "proanthocyanins                 False\n",
       "color_intensity                 False\n",
       "hue                             False\n",
       "od280/od315_of_diluted_wines    False\n",
       "proline                         False\n",
       "dtype: bool"
      ]
     },
     "execution_count": 3,
     "metadata": {},
     "output_type": "execute_result"
    }
   ],
   "source": [
    "X.isna().any() # проверка на пропуски NaN"
   ]
  },
  {
   "cell_type": "code",
   "execution_count": 4,
   "metadata": {
    "scrolled": true
   },
   "outputs": [
    {
     "data": {
      "text/plain": [
       "False"
      ]
     },
     "execution_count": 4,
     "metadata": {},
     "output_type": "execute_result"
    }
   ],
   "source": [
    "X.isnull().values.any() # проверка на пропуски null"
   ]
  },
  {
   "cell_type": "code",
   "execution_count": 5,
   "metadata": {},
   "outputs": [
    {
     "data": {
      "text/plain": [
       "alcohol                         False\n",
       "malic_acid                      False\n",
       "ash                             False\n",
       "alcalinity_of_ash               False\n",
       "magnesium                       False\n",
       "total_phenols                   False\n",
       "flavanoids                      False\n",
       "nonflavanoid_phenols            False\n",
       "proanthocyanins                 False\n",
       "color_intensity                 False\n",
       "hue                             False\n",
       "od280/od315_of_diluted_wines    False\n",
       "proline                         False\n",
       "dtype: bool"
      ]
     },
     "execution_count": 5,
     "metadata": {},
     "output_type": "execute_result"
    }
   ],
   "source": [
    "# cat_features = (X.dtypes == \"object\").values \n",
    "cat_features = X.dtypes == \"object\" # проверяем по всем столбцам, есть ли в них категориальные значения, они носят тип object\n",
    "cat_features"
   ]
  },
  {
   "cell_type": "markdown",
   "metadata": {},
   "source": [
    "**Задача 1.2 (0.5 балла)** Используя функцию `train_test_split()`, разделите выборку на тренировочную и тестовую, и долю тестовой выборки задайте равной 0.3. Так как разбиение осуществляется случайным образом, не забудьте зафиксировать `np.random.seed()` для воспроизводимости результатов."
   ]
  },
  {
   "cell_type": "code",
   "execution_count": 6,
   "metadata": {},
   "outputs": [],
   "source": [
    "from sklearn.model_selection import train_test_split\n",
    "from sklearn.metrics import accuracy_score"
   ]
  },
  {
   "cell_type": "code",
   "execution_count": 7,
   "metadata": {},
   "outputs": [],
   "source": [
    "X_train, X_test, y_train, y_test = train_test_split(X, y, test_size=0.3, random_state=0)"
   ]
  },
  {
   "cell_type": "markdown",
   "metadata": {},
   "source": [
    "**Задача 1.3 (1 балл)** На тренировочной выборке обучите шесть классификаторов kNN, отличающихся только числом соседей. Для первого классификатора число соседей поставьте равным 1, для второго - 3, для третьего – 5, для четвертого – 10, для пятого – 15 и для шестого – 25 (обратите внимание на параметр `n_neighbours` класса `KNeighborsClassifier`). Для обучения используйте только два признака: `alcohol` и `magnesium` – и евклидово расстояние. Не забудьте масштабировать признаки, например, при помощи модуля `StandardScaler`.\n",
    "\n",
    "Выведите долю правильных ответов на тренировочной и тестовой выборках для каждого классификатора."
   ]
  },
  {
   "cell_type": "code",
   "execution_count": 8,
   "metadata": {},
   "outputs": [],
   "source": [
    "from sklearn.neighbors import KNeighborsClassifier\n",
    "from sklearn.preprocessing import StandardScaler"
   ]
  },
  {
   "cell_type": "code",
   "execution_count": 9,
   "metadata": {
    "scrolled": false
   },
   "outputs": [
    {
     "name": "stdout",
     "output_type": "stream",
     "text": [
      "NN\tTrain\tTest\n",
      "1 \t 1.00 \t 0.67\n",
      "3 \t 0.81 \t 0.78\n",
      "5 \t 0.75 \t 0.72\n",
      "10 \t 0.73 \t 0.78\n",
      "15 \t 0.73 \t 0.80\n",
      "25 \t 0.67 \t 0.80\n"
     ]
    }
   ],
   "source": [
    "neighbours = [1, 3, 5, 10, 15, 25]\n",
    "data_train, data_test = X_train[['alcohol', 'magnesium']], X_test[['alcohol', 'magnesium']]\n",
    "\n",
    "scaler = StandardScaler()\n",
    "\n",
    "scaler.fit(data_train)\n",
    "data_train_norm = scaler.transform(data_train)\n",
    "data_test_norm = scaler.transform(data_test)\n",
    "\n",
    "clfs = []\n",
    "print('NN\\tTrain\\tTest')\n",
    "for k in neighbours:\n",
    "    cls = KNeighborsClassifier(n_neighbors=k, metric='euclidean')\n",
    "    cls.fit(data_train_norm, y_train)\n",
    "    y_train_predict = cls.predict(data_train_norm)\n",
    "    y_test_predict = cls.predict(data_test_norm)\n",
    "    print(k, '\\t', \"%.2f\"%accuracy_score(y_train_predict, y_train), '\\t', \"%.2f\"%accuracy_score(y_test_predict, y_test))\n",
    "    clfs.append(cls)"
   ]
  },
  {
   "cell_type": "markdown",
   "metadata": {},
   "source": [
    "**Задача 1.4 (0 баллов)** Установите библиотеку `mlxtend` командой ниже. Библиотеку также можно установить из терминала при помощи `pip` или `conda`, как указано [здесь](http://rasbt.github.io/mlxtend/installation/). "
   ]
  },
  {
   "cell_type": "markdown",
   "metadata": {},
   "source": [
    "Если всё прошло успешно, то в выводе команды выше вы увидите сообщение вроде \"successfully installed\", а следующая ячейка выполнится без ошибок."
   ]
  },
  {
   "cell_type": "code",
   "execution_count": 10,
   "metadata": {},
   "outputs": [],
   "source": [
    "import mlxtend"
   ]
  },
  {
   "cell_type": "markdown",
   "metadata": {},
   "source": [
    "**Задача 1.5 (1 балл)** Библиотека `mlxtend` позволяет достаточно просто визуализировать решающие поверхности обученных классификаторов. Изучите [документацию](http://rasbt.github.io/mlxtend/user_guide/plotting/plot_decision_regions/) библиотеки и найдите, как можно построить несколько графиков решающих поверхностей на сетке (decision regions grid). Постройте такую сетку графиков для обученных выше классификаторов.\n",
    "\n",
    "**Подсказки:**\n",
    "1. Вы можете использовать готовый код, приведённый в документации, и адаптировать его для нашего случая.\n",
    "2. Вам могут понадобиться дополнительные библиотеки, которые используются в примере из документации.\n",
    "3. Обратите внимание на то, как нужно изменить параметры `gridspec.GridSpec()` и `itertools.product()` для нашего числа классификаторов. \n",
    "4. В функции `plot_decision_region()` используйте `y_train` и нужные столбцы из `X_train`. Возможно, их придётся перевести в формат массива `numpy`.\n",
    "5. Если в задаче 1.3 вы сохраните обученные классификаторы в список, то не будет необходимости обучать их заново. \n",
    "6. Построение графика может занять некоторое время – придётся немного подождать!"
   ]
  },
  {
   "cell_type": "code",
   "execution_count": 11,
   "metadata": {},
   "outputs": [],
   "source": [
    "import matplotlib.pyplot as plt\n",
    "from mlxtend.plotting import plot_decision_regions\n",
    "import matplotlib.gridspec as gridspec\n",
    "import itertools"
   ]
  },
  {
   "cell_type": "code",
   "execution_count": 12,
   "metadata": {
    "scrolled": true
   },
   "outputs": [
    {
     "data": {
      "image/png": "[encoded data removed]",
      "text/plain": [
       "<Figure size 1440x1080 with 6 Axes>"
      ]
     },
     "metadata": {
      "needs_background": "light"
     },
     "output_type": "display_data"
    }
   ],
   "source": [
    "# random seed 0\n",
    "gs = gridspec.GridSpec(2, 3)\n",
    "fig = plt.figure(figsize=(20,15))\n",
    "\n",
    "labels = [f'n_neighbours = {k}' for k in neighbours]\n",
    "for clf, lab, grd in zip(clfs, labels, itertools.product([0, 1], [0, 1, 2])):\n",
    "    ax = plt.subplot(gs[grd[0], grd[1]])\n",
    "    fig = plot_decision_regions(X=data_train_norm, y=y_train, clf=clf, legend=2)\n",
    "    plt.title(lab)\n",
    "\n",
    "plt.show()"
   ]
  },
  {
   "cell_type": "markdown",
   "metadata": {},
   "source": [
    "**Задача 1.6 (0.5 балла)** Прокомментируйте результаты, полученные в задачах 1.3 и 1.5. Какое число соседей оптимально использовать для обучения классификатора? Поясните ваш выбор при помощи описания геометрии данных и получаемой решающей поверхности."
   ]
  },
  {
   "cell_type": "markdown",
   "metadata": {},
   "source": [
    "        Ответ\n",
    "Несмотря на неплохие показатели accuracy для к in [1, 3, 5], понятно (и графики в 1.5 это доказывают), что при таких небольших к решающие поверхности будут сильно *разрежены* - для каждого выброса или случайно затесавшегося элемента другого класса будет выделен собственный \"островок\" внутри поля другого класса, что нелогично и *плохо обобщает*, а наша задача сделать модель *обобщающей*\n",
    "\n",
    "Если смотреть на резы 1.3, из оставшихся к лучше всего использовать к=15: по accuracy на train показатель лучший из оставшихся, а на test - вообще лучший. Но решающие поверхности при к=15 *не очень логичнны*: там снова есть эти мелкие ненужные островки отличающихся классов, и зеленая поверхность уходит зачем-то вверх, хотя там уже все-таки было бы логичннее сделать рыжую область.\n",
    "\n",
    "Кажется, что оптимальным было бы использовать **к=10**. При нем решающие поверхности наиболее логичны (как я бы разделила руками), обобщены и наименее разрежены (меньше чем при к=25)."
   ]
  },
  {
   "cell_type": "markdown",
   "metadata": {},
   "source": [
    "### Задание 2: Обученная машина."
   ]
  },
  {
   "cell_type": "markdown",
   "metadata": {},
   "source": [
    "В этом задании мы рассмотрим упрощённую идею того, как метод ближайших соседей можно применить при моделировании движения робота. \n",
    "\n",
    "Рассмотрим робота на дискретной двумерной плоскости, который за каждый момент дискретного времени может передвинуться на одну позицию вправо, влево, вверх или вниз. На плоскости разбросаны метки одного из четырёх классов, анализируя которые робот может (но не обязан) корректировать своё перемещение. Пусть метки класса 0 соответствуют сигналу переместиться вправо, метки класса 1 – влево, класса 2 – вверх, класса 3 – вниз. \n",
    "\n",
    "Передвижение робота осуществляется по следующему правилу: с вероятностью 0.2 робот передвинется вправо, и с вероятностью 0.8 – оценит, метки какого класса преобладают среди `k` его ближайших соседей, и передвинется в направлении этого доминирующего класса. \n",
    "\n",
    "Для лучшего понимания происходящего изобразим возможное положение робота и меток:"
   ]
  },
  {
   "cell_type": "code",
   "execution_count": 13,
   "metadata": {},
   "outputs": [
    {
     "data": {
      "image/png": "[encoded data removed]",
      "text/plain": [
       "<Figure size 720x504 with 1 Axes>"
      ]
     },
     "metadata": {
      "needs_background": "light"
     },
     "output_type": "display_data"
    }
   ],
   "source": [
    "np.random.seed(12345)\n",
    "x = np.arange(20)\n",
    "landmarks = x + np.round(np.random.normal(2, 8, 20)) # сгенерируем случайные метки\n",
    "random_classes = np.random.randint(0, 4, 20)\n",
    "\n",
    "fig, ax = plt.subplots(figsize = (10, 7))\n",
    "scatter = ax.scatter(x, landmarks, c = random_classes)\n",
    "ax.scatter(4, 7, c = 'r', marker = 'o', label = 'robot position')\n",
    "legend1 = ax.legend(*scatter.legend_elements(),\n",
    "                    loc = \"lower left\", title = \"Classes\")\n",
    "ax.add_artist(legend1)\n",
    "\n",
    "plt.plot()\n",
    "_ = plt.legend()\n",
    "_ = plt.grid()"
   ]
  },
  {
   "cell_type": "markdown",
   "metadata": {},
   "source": [
    "На следующем шаге робот передвинется на 1 либо вправо, либо в направлении, которое указывают ближайшие соседи."
   ]
  },
  {
   "cell_type": "markdown",
   "metadata": {},
   "source": [
    "**Задача 2.1 (1.5 балла)** Реализуйте класс, который задаёт описанное поведение робота, используя шаблон ниже:\n",
    "1. Определите атрибуты `trajectory` (переменная для хранения истории перемещения робота в виде последовательности точек с двумя координатами) и `knn` (обученный kNN классификатор, который по позиции метки предсказывает её класс).\n",
    "2. Определите метод `move()`: рассчитайте новое положение робота по правилам выше и добавьте её в историю перемещений. Подсказка: исходы можно интерпретировать как результаты подбрасывания монетки с вероятностью орла, равной 0.2. Для моделирования такого подбрасывания можно использовать, например, `np.random.binomial()` с правильными параметрами. "
   ]
  },
  {
   "cell_type": "code",
   "execution_count": 14,
   "metadata": {},
   "outputs": [],
   "source": [
    "from sklearn.neighbors import KNeighborsClassifier"
   ]
  },
  {
   "cell_type": "code",
   "execution_count": 15,
   "metadata": {},
   "outputs": [],
   "source": [
    "class MobileRobot():\n",
    "    \n",
    "    def __init__(self, k, initial_position, landmarks, classes):\n",
    "        '''\n",
    "        Attributes:\n",
    "        ------\n",
    "        k: int\n",
    "            Number of neighbours\n",
    "            \n",
    "        initial_position: ndarray\n",
    "            Initial position of the robot as a point, e.g. (-1, 1)\n",
    "            \n",
    "        landmarks: ndarray\n",
    "            numpy array of shape (n_landmarks, 2) with the euclidean positions of points\n",
    "        \n",
    "        classes: ndarray\n",
    "            numpy array of shape (n_landmarks, ) with class of landmark for each point in landmarks\n",
    "        \n",
    "        '''\n",
    "        \n",
    "        # Store the history of movements\n",
    "        self.trajectory = [initial_position] # <ВАШ КОД ЗДЕСЬ>\n",
    "        \n",
    "        \n",
    "        # kNN Classifier for determining the classes of landmarks\n",
    "        self.knn = KNeighborsClassifier(n_neighbors=k) # <ВАШ КОД ЗДЕСЬ>\n",
    "        self.knn.fit(landmarks, classes)\n",
    "        \n",
    "        \n",
    "        # Mapping between classes of points and movements\n",
    "        self.mapping = {0: np.array([1, 0]), \n",
    "                        1: np.array([-1, 0]),\n",
    "                        2: np.array([0, 1]),\n",
    "                        3: np.array([0, -1])}\n",
    "\n",
    "    \n",
    "    def move(self):\n",
    "        decision = np.random.binomial(1, 0.2)\n",
    "        if decision == 1: # сдвиг вправо вне зависимости от расположения робота\n",
    "            self.trajectory.append(self.trajectory[-1]+self.mapping[0])\n",
    "        else:\n",
    "            move_class = self.knn.predict(self.trajectory[-1].reshape(1,2))\n",
    "            self.trajectory.append(self.trajectory[-1]+self.mapping[move_class[0]])\n",
    "        '''\n",
    "        Calculate new position of the robot and add it to the history\n",
    "        '''\n",
    "        \n",
    "        # <ВАШ КОД ЗДЕСЬ>"
   ]
  },
  {
   "cell_type": "markdown",
   "metadata": {},
   "source": [
    "**Задача 2.2 (0.5 балла)** Дополните функцию `conduct_experiment`: определите переменную `traj` так, чтобы она содержала историю перемещения робота в виде двумерного массива numpy, в котором столбцы соответствуют координатам x и y соответствующей позиции."
   ]
  },
  {
   "cell_type": "code",
   "execution_count": 16,
   "metadata": {},
   "outputs": [],
   "source": [
    "def conduct_experiment(x,\n",
    "                       mean = 0,\n",
    "                       std = 2, \n",
    "                       n_movements = 10, \n",
    "                       k = 3, \n",
    "                       initial_position = np.array([10, 20])):\n",
    "    \n",
    "    np.random.seed(12345)\n",
    "    # Generate random landmarks\n",
    "    landmarks = np.vstack((x, x + np.round(np.random.normal(mean, std, len(x))))).T\n",
    "    \n",
    "    # Generate random classes of landmarks\n",
    "    classes = np.random.randint(0, 4, size = len(x))\n",
    "    \n",
    "    # Conduct experiment\n",
    "    robot = MobileRobot(k, initial_position, landmarks, classes)\n",
    "#     robot.predict()\n",
    "    \n",
    "    for n in range(n_movements):\n",
    "        robot.move()\n",
    "    \n",
    "    fig, ax = plt.subplots(figsize = (10, 8))\n",
    "    scatter = ax.scatter(landmarks[:, 0], landmarks[:, 1], c = classes)\n",
    "    legend1 = ax.legend(*scatter.legend_elements(),\n",
    "                        loc=\"lower left\", title=\"classes\")\n",
    "    ax.add_artist(legend1)\n",
    "    \n",
    "    traj = np.array(robot.trajectory)\n",
    "    ax.plot(traj[:, 0], traj[:, 1], \n",
    "               c = 'r', marker = 'o', label = 'robot position')\n",
    "\n",
    "    plt.plot()\n",
    "    _ = plt.legend()\n",
    "    _ = plt.grid()"
   ]
  },
  {
   "cell_type": "code",
   "execution_count": 17,
   "metadata": {},
   "outputs": [
    {
     "data": {
      "image/png": "[encoded data removed]",
      "text/plain": [
       "<Figure size 720x576 with 1 Axes>"
      ]
     },
     "metadata": {
      "needs_background": "light"
     },
     "output_type": "display_data"
    }
   ],
   "source": [
    "x = np.arange(30)\n",
    "conduct_experiment(x, mean = 3, std = 10, k = 5, n_movements = 50)"
   ]
  },
  {
   "cell_type": "markdown",
   "metadata": {},
   "source": [
    "**Задача 2.3 (1 балл)** Как число соседей влияет на траекторию движения робота в нашем эксперименте? Постройте четыре графика с различным числом соседей на ваш выбор. А что было бы в случае, если классы назначаются меткам не случайно, а осмысленно? "
   ]
  },
  {
   "cell_type": "markdown",
   "metadata": {},
   "source": [
    "Кажется, что с увеличением К траектория робота становится менее \"размашистой\": он чаще принимает решения двигаться вверх или вниз (иногда даже влево) и все реже подолгу движется вправо. Это означает, что среди его соседей становится больше экземпляров других классов (логично). \n",
    "Приближаясь к К=количество всех точек на плоскости (30), становится ясно, что класс большинства точек - \"вверх\", так как робот все более настойчиво идет вверх, не считая тех его шагов, в которых он шагает вправо вне зависимости от соседей (так как при К=количество всех точек на плоскости предсказание классификатора будет одинаковым для всех точек - этим предсказанием будет класс большинства).\n",
    "\n",
    "Если назначить классы меткам осымсленно, например обозначить ими географию реального жилого помещения, то скорее всего в одном месте было бы больше меток одного класса, а у робота было бы больше шансов пройти всю ограниченную этими метками плоскость (как робот-пылесос так или иначе проходит по всей комнате)"
   ]
  },
  {
   "cell_type": "code",
   "execution_count": 18,
   "metadata": {
    "scrolled": true
   },
   "outputs": [
    {
     "data": {
      "image/png": "[encoded data removed]",
      "text/plain": [
       "<Figure size 720x576 with 1 Axes>"
      ]
     },
     "metadata": {
      "needs_background": "light"
     },
     "output_type": "display_data"
    }
   ],
   "source": [
    "conduct_experiment(x, mean = 3, std = 10, k = 3, n_movements = 50)"
   ]
  },
  {
   "cell_type": "code",
   "execution_count": 19,
   "metadata": {
    "scrolled": true
   },
   "outputs": [
    {
     "data": {
      "image/png": "[encoded data removed]",
      "text/plain": [
       "<Figure size 720x576 with 1 Axes>"
      ]
     },
     "metadata": {
      "needs_background": "light"
     },
     "output_type": "display_data"
    }
   ],
   "source": [
    "conduct_experiment(x, mean = 3, std = 10, k = 10, n_movements = 50)"
   ]
  },
  {
   "cell_type": "code",
   "execution_count": 20,
   "metadata": {},
   "outputs": [
    {
     "data": {
      "image/png": "[encoded data removed]",
      "text/plain": [
       "<Figure size 720x576 with 1 Axes>"
      ]
     },
     "metadata": {
      "needs_background": "light"
     },
     "output_type": "display_data"
    }
   ],
   "source": [
    "conduct_experiment(x, mean = 3, std = 10, k = 18, n_movements = 50)"
   ]
  },
  {
   "cell_type": "code",
   "execution_count": 21,
   "metadata": {},
   "outputs": [
    {
     "data": {
      "image/png": "[encoded data removed]",
      "text/plain": [
       "<Figure size 720x576 with 1 Axes>"
      ]
     },
     "metadata": {
      "needs_background": "light"
     },
     "output_type": "display_data"
    }
   ],
   "source": [
    "conduct_experiment(x, mean = 3, std = 10, k = 27, n_movements = 50)"
   ]
  },
  {
   "cell_type": "markdown",
   "metadata": {},
   "source": [
    "### Задание 3: Линейная регрессия."
   ]
  },
  {
   "cell_type": "markdown",
   "metadata": {},
   "source": [
    "В этом задании мы рассмотрим различные аспекты построения линейной модели. Мы будем работать с одним из классических наборов данных в статистике, содержащим информацию о бриллиантах. Описание можно посмотреть [здесь](https://www.kaggle.com/shivam2503/diamonds)."
   ]
  },
  {
   "cell_type": "code",
   "execution_count": 63,
   "metadata": {
    "scrolled": true
   },
   "outputs": [
    {
     "name": "stdout",
     "output_type": "stream",
     "text": [
      "--2022-03-16 14:24:34--  https://raw.githubusercontent.com/hse-ds/iad-intro-ds/master/2021/homeworks/hw04-knn_linreg/data/diamonds.csv\n",
      "Resolving raw.githubusercontent.com (raw.githubusercontent.com)... 185.199.108.133, 185.199.109.133, 185.199.111.133, ...\n",
      "Connecting to raw.githubusercontent.com (raw.githubusercontent.com)|185.199.108.133|:443... connected.\n",
      "HTTP request sent, awaiting response... 200 OK\n",
      "Length: 3192560 (3.0M) [text/plain]\n",
      "Saving to: ‘diamonds.csv’\n",
      "\n",
      "diamonds.csv        100%[===================>]   3.04M  3.17MB/s    in 1.0s    \n",
      "\n",
      "2022-03-16 14:24:36 (3.17 MB/s) - ‘diamonds.csv’ saved [3192560/3192560]\n",
      "\n"
     ]
    }
   ],
   "source": [
    "!wget https://raw.githubusercontent.com/hse-ds/iad-intro-ds/master/2021/homeworks/hw04-knn_linreg/data/diamonds.csv"
   ]
  },
  {
   "cell_type": "code",
   "execution_count": 22,
   "metadata": {},
   "outputs": [
    {
     "data": {
      "text/html": [
       "<div>\n",
       "<style scoped>\n",
       "    .dataframe tbody tr th:only-of-type {\n",
       "        vertical-align: middle;\n",
       "    }\n",
       "\n",
       "    .dataframe tbody tr th {\n",
       "        vertical-align: top;\n",
       "    }\n",
       "\n",
       "    .dataframe thead th {\n",
       "        text-align: right;\n",
       "    }\n",
       "</style>\n",
       "<table border=\"1\" class=\"dataframe\">\n",
       "  <thead>\n",
       "    <tr style=\"text-align: right;\">\n",
       "      <th></th>\n",
       "      <th>Unnamed: 0</th>\n",
       "      <th>carat</th>\n",
       "      <th>cut</th>\n",
       "      <th>color</th>\n",
       "      <th>clarity</th>\n",
       "      <th>depth</th>\n",
       "      <th>table</th>\n",
       "      <th>price</th>\n",
       "      <th>x</th>\n",
       "      <th>y</th>\n",
       "      <th>z</th>\n",
       "    </tr>\n",
       "  </thead>\n",
       "  <tbody>\n",
       "    <tr>\n",
       "      <th>0</th>\n",
       "      <td>1</td>\n",
       "      <td>0.23</td>\n",
       "      <td>Ideal</td>\n",
       "      <td>E</td>\n",
       "      <td>SI2</td>\n",
       "      <td>61.5</td>\n",
       "      <td>55.0</td>\n",
       "      <td>326</td>\n",
       "      <td>3.95</td>\n",
       "      <td>3.98</td>\n",
       "      <td>2.43</td>\n",
       "    </tr>\n",
       "    <tr>\n",
       "      <th>1</th>\n",
       "      <td>2</td>\n",
       "      <td>0.21</td>\n",
       "      <td>Premium</td>\n",
       "      <td>E</td>\n",
       "      <td>SI1</td>\n",
       "      <td>59.8</td>\n",
       "      <td>61.0</td>\n",
       "      <td>326</td>\n",
       "      <td>3.89</td>\n",
       "      <td>3.84</td>\n",
       "      <td>2.31</td>\n",
       "    </tr>\n",
       "    <tr>\n",
       "      <th>2</th>\n",
       "      <td>3</td>\n",
       "      <td>0.23</td>\n",
       "      <td>Good</td>\n",
       "      <td>E</td>\n",
       "      <td>VS1</td>\n",
       "      <td>56.9</td>\n",
       "      <td>65.0</td>\n",
       "      <td>327</td>\n",
       "      <td>4.05</td>\n",
       "      <td>4.07</td>\n",
       "      <td>2.31</td>\n",
       "    </tr>\n",
       "    <tr>\n",
       "      <th>3</th>\n",
       "      <td>4</td>\n",
       "      <td>0.29</td>\n",
       "      <td>Premium</td>\n",
       "      <td>I</td>\n",
       "      <td>VS2</td>\n",
       "      <td>62.4</td>\n",
       "      <td>58.0</td>\n",
       "      <td>334</td>\n",
       "      <td>4.20</td>\n",
       "      <td>4.23</td>\n",
       "      <td>2.63</td>\n",
       "    </tr>\n",
       "    <tr>\n",
       "      <th>4</th>\n",
       "      <td>5</td>\n",
       "      <td>0.31</td>\n",
       "      <td>Good</td>\n",
       "      <td>J</td>\n",
       "      <td>SI2</td>\n",
       "      <td>63.3</td>\n",
       "      <td>58.0</td>\n",
       "      <td>335</td>\n",
       "      <td>4.34</td>\n",
       "      <td>4.35</td>\n",
       "      <td>2.75</td>\n",
       "    </tr>\n",
       "    <tr>\n",
       "      <th>5</th>\n",
       "      <td>6</td>\n",
       "      <td>0.24</td>\n",
       "      <td>Very Good</td>\n",
       "      <td>J</td>\n",
       "      <td>VVS2</td>\n",
       "      <td>62.8</td>\n",
       "      <td>57.0</td>\n",
       "      <td>336</td>\n",
       "      <td>3.94</td>\n",
       "      <td>3.96</td>\n",
       "      <td>2.48</td>\n",
       "    </tr>\n",
       "    <tr>\n",
       "      <th>6</th>\n",
       "      <td>7</td>\n",
       "      <td>0.24</td>\n",
       "      <td>Very Good</td>\n",
       "      <td>I</td>\n",
       "      <td>VVS1</td>\n",
       "      <td>62.3</td>\n",
       "      <td>57.0</td>\n",
       "      <td>336</td>\n",
       "      <td>3.95</td>\n",
       "      <td>3.98</td>\n",
       "      <td>2.47</td>\n",
       "    </tr>\n",
       "    <tr>\n",
       "      <th>7</th>\n",
       "      <td>8</td>\n",
       "      <td>0.26</td>\n",
       "      <td>Very Good</td>\n",
       "      <td>H</td>\n",
       "      <td>SI1</td>\n",
       "      <td>61.9</td>\n",
       "      <td>55.0</td>\n",
       "      <td>337</td>\n",
       "      <td>4.07</td>\n",
       "      <td>4.11</td>\n",
       "      <td>2.53</td>\n",
       "    </tr>\n",
       "    <tr>\n",
       "      <th>8</th>\n",
       "      <td>9</td>\n",
       "      <td>0.22</td>\n",
       "      <td>Fair</td>\n",
       "      <td>E</td>\n",
       "      <td>VS2</td>\n",
       "      <td>65.1</td>\n",
       "      <td>61.0</td>\n",
       "      <td>337</td>\n",
       "      <td>3.87</td>\n",
       "      <td>3.78</td>\n",
       "      <td>2.49</td>\n",
       "    </tr>\n",
       "    <tr>\n",
       "      <th>9</th>\n",
       "      <td>10</td>\n",
       "      <td>0.23</td>\n",
       "      <td>Very Good</td>\n",
       "      <td>H</td>\n",
       "      <td>VS1</td>\n",
       "      <td>59.4</td>\n",
       "      <td>61.0</td>\n",
       "      <td>338</td>\n",
       "      <td>4.00</td>\n",
       "      <td>4.05</td>\n",
       "      <td>2.39</td>\n",
       "    </tr>\n",
       "  </tbody>\n",
       "</table>\n",
       "</div>"
      ],
      "text/plain": [
       "   Unnamed: 0  carat        cut color clarity  depth  table  price     x  \\\n",
       "0           1   0.23      Ideal     E     SI2   61.5   55.0    326  3.95   \n",
       "1           2   0.21    Premium     E     SI1   59.8   61.0    326  3.89   \n",
       "2           3   0.23       Good     E     VS1   56.9   65.0    327  4.05   \n",
       "3           4   0.29    Premium     I     VS2   62.4   58.0    334  4.20   \n",
       "4           5   0.31       Good     J     SI2   63.3   58.0    335  4.34   \n",
       "5           6   0.24  Very Good     J    VVS2   62.8   57.0    336  3.94   \n",
       "6           7   0.24  Very Good     I    VVS1   62.3   57.0    336  3.95   \n",
       "7           8   0.26  Very Good     H     SI1   61.9   55.0    337  4.07   \n",
       "8           9   0.22       Fair     E     VS2   65.1   61.0    337  3.87   \n",
       "9          10   0.23  Very Good     H     VS1   59.4   61.0    338  4.00   \n",
       "\n",
       "      y     z  \n",
       "0  3.98  2.43  \n",
       "1  3.84  2.31  \n",
       "2  4.07  2.31  \n",
       "3  4.23  2.63  \n",
       "4  4.35  2.75  \n",
       "5  3.96  2.48  \n",
       "6  3.98  2.47  \n",
       "7  4.11  2.53  \n",
       "8  3.78  2.49  \n",
       "9  4.05  2.39  "
      ]
     },
     "execution_count": 22,
     "metadata": {},
     "output_type": "execute_result"
    }
   ],
   "source": [
    "diam = pd.read_csv('diamonds.csv')\n",
    "diam.head(10)"
   ]
  },
  {
   "cell_type": "markdown",
   "metadata": {},
   "source": [
    "Мы будем решать задачу предсказания цены бриллианта `price` в зависимости от его характеристик."
   ]
  },
  {
   "cell_type": "markdown",
   "metadata": {},
   "source": [
    "**Задача 3.1 (0.1 балла)** Есть ли в наборе данных пропущенные значения? Если да, удалите их. "
   ]
  },
  {
   "cell_type": "code",
   "execution_count": 23,
   "metadata": {
    "scrolled": true
   },
   "outputs": [
    {
     "data": {
      "text/plain": [
       "Unnamed: 0    False\n",
       "carat         False\n",
       "cut           False\n",
       "color         False\n",
       "clarity       False\n",
       "depth         False\n",
       "table         False\n",
       "price         False\n",
       "x             False\n",
       "y             False\n",
       "z             False\n",
       "dtype: bool"
      ]
     },
     "execution_count": 23,
     "metadata": {},
     "output_type": "execute_result"
    }
   ],
   "source": [
    "diam.isna().any()"
   ]
  },
  {
   "cell_type": "code",
   "execution_count": 24,
   "metadata": {},
   "outputs": [
    {
     "data": {
      "text/plain": [
       "False"
      ]
     },
     "execution_count": 24,
     "metadata": {},
     "output_type": "execute_result"
    }
   ],
   "source": [
    "diam.isnull().values.any()"
   ]
  },
  {
   "cell_type": "markdown",
   "metadata": {},
   "source": [
    "пропусков нет"
   ]
  },
  {
   "cell_type": "markdown",
   "metadata": {},
   "source": [
    "**Задача 3.2 (0.1 балла)** Есть ли в наборе данных бессмысленные столбцы (признаки, не несущие дополнительной информации)? Если да, то удалите их."
   ]
  },
  {
   "cell_type": "code",
   "execution_count": 25,
   "metadata": {},
   "outputs": [
    {
     "data": {
      "text/html": [
       "<div>\n",
       "<style scoped>\n",
       "    .dataframe tbody tr th:only-of-type {\n",
       "        vertical-align: middle;\n",
       "    }\n",
       "\n",
       "    .dataframe tbody tr th {\n",
       "        vertical-align: top;\n",
       "    }\n",
       "\n",
       "    .dataframe thead th {\n",
       "        text-align: right;\n",
       "    }\n",
       "</style>\n",
       "<table border=\"1\" class=\"dataframe\">\n",
       "  <thead>\n",
       "    <tr style=\"text-align: right;\">\n",
       "      <th></th>\n",
       "      <th>carat</th>\n",
       "      <th>cut</th>\n",
       "      <th>color</th>\n",
       "      <th>clarity</th>\n",
       "      <th>depth</th>\n",
       "      <th>table</th>\n",
       "      <th>price</th>\n",
       "      <th>x</th>\n",
       "      <th>y</th>\n",
       "      <th>z</th>\n",
       "    </tr>\n",
       "  </thead>\n",
       "  <tbody>\n",
       "    <tr>\n",
       "      <th>0</th>\n",
       "      <td>0.23</td>\n",
       "      <td>Ideal</td>\n",
       "      <td>E</td>\n",
       "      <td>SI2</td>\n",
       "      <td>61.5</td>\n",
       "      <td>55.0</td>\n",
       "      <td>326</td>\n",
       "      <td>3.95</td>\n",
       "      <td>3.98</td>\n",
       "      <td>2.43</td>\n",
       "    </tr>\n",
       "    <tr>\n",
       "      <th>1</th>\n",
       "      <td>0.21</td>\n",
       "      <td>Premium</td>\n",
       "      <td>E</td>\n",
       "      <td>SI1</td>\n",
       "      <td>59.8</td>\n",
       "      <td>61.0</td>\n",
       "      <td>326</td>\n",
       "      <td>3.89</td>\n",
       "      <td>3.84</td>\n",
       "      <td>2.31</td>\n",
       "    </tr>\n",
       "    <tr>\n",
       "      <th>2</th>\n",
       "      <td>0.23</td>\n",
       "      <td>Good</td>\n",
       "      <td>E</td>\n",
       "      <td>VS1</td>\n",
       "      <td>56.9</td>\n",
       "      <td>65.0</td>\n",
       "      <td>327</td>\n",
       "      <td>4.05</td>\n",
       "      <td>4.07</td>\n",
       "      <td>2.31</td>\n",
       "    </tr>\n",
       "    <tr>\n",
       "      <th>3</th>\n",
       "      <td>0.29</td>\n",
       "      <td>Premium</td>\n",
       "      <td>I</td>\n",
       "      <td>VS2</td>\n",
       "      <td>62.4</td>\n",
       "      <td>58.0</td>\n",
       "      <td>334</td>\n",
       "      <td>4.20</td>\n",
       "      <td>4.23</td>\n",
       "      <td>2.63</td>\n",
       "    </tr>\n",
       "    <tr>\n",
       "      <th>4</th>\n",
       "      <td>0.31</td>\n",
       "      <td>Good</td>\n",
       "      <td>J</td>\n",
       "      <td>SI2</td>\n",
       "      <td>63.3</td>\n",
       "      <td>58.0</td>\n",
       "      <td>335</td>\n",
       "      <td>4.34</td>\n",
       "      <td>4.35</td>\n",
       "      <td>2.75</td>\n",
       "    </tr>\n",
       "  </tbody>\n",
       "</table>\n",
       "</div>"
      ],
      "text/plain": [
       "   carat      cut color clarity  depth  table  price     x     y     z\n",
       "0   0.23    Ideal     E     SI2   61.5   55.0    326  3.95  3.98  2.43\n",
       "1   0.21  Premium     E     SI1   59.8   61.0    326  3.89  3.84  2.31\n",
       "2   0.23     Good     E     VS1   56.9   65.0    327  4.05  4.07  2.31\n",
       "3   0.29  Premium     I     VS2   62.4   58.0    334  4.20  4.23  2.63\n",
       "4   0.31     Good     J     SI2   63.3   58.0    335  4.34  4.35  2.75"
      ]
     },
     "execution_count": 25,
     "metadata": {},
     "output_type": "execute_result"
    }
   ],
   "source": [
    "# столбец 'Unnamed: 0' - это просто индексация данных, начиная с 1, а не с 0, так что эту информацию можо получить из индекса.\n",
    "\n",
    "diam.drop('Unnamed: 0', axis = 1, inplace=True)\n",
    "diam.head()"
   ]
  },
  {
   "cell_type": "markdown",
   "metadata": {},
   "source": [
    "**Задача 3.3 (0.1 балла)** Линейная регрессия основана на предположении о линейной связи между признаками и целевой переменной, а потому перед выбором переменных для включения в модель имеет смысл проверить, насколько эта связь выполняется. Для следующих пунктов нам также потребуются выборочные корреляции между признаками. Выведите матрицу выборочных корреляций между всеми вещественными признаками и целевой переменной (то есть в этой матрице будет $k+1$ строка, где $k$ – количество вещественных признаков).\n",
    "\n",
    "Какие вещественные признаки коррелируют с целевой переменной больше всего?"
   ]
  },
  {
   "cell_type": "code",
   "execution_count": 26,
   "metadata": {},
   "outputs": [],
   "source": [
    "data_numeric = diam.select_dtypes(include=np.number)"
   ]
  },
  {
   "cell_type": "code",
   "execution_count": 27,
   "metadata": {},
   "outputs": [
    {
     "data": {
      "text/html": [
       "<div>\n",
       "<style scoped>\n",
       "    .dataframe tbody tr th:only-of-type {\n",
       "        vertical-align: middle;\n",
       "    }\n",
       "\n",
       "    .dataframe tbody tr th {\n",
       "        vertical-align: top;\n",
       "    }\n",
       "\n",
       "    .dataframe thead th {\n",
       "        text-align: right;\n",
       "    }\n",
       "</style>\n",
       "<table border=\"1\" class=\"dataframe\">\n",
       "  <thead>\n",
       "    <tr style=\"text-align: right;\">\n",
       "      <th></th>\n",
       "      <th>price</th>\n",
       "    </tr>\n",
       "  </thead>\n",
       "  <tbody>\n",
       "    <tr>\n",
       "      <th>price</th>\n",
       "      <td>1.000000</td>\n",
       "    </tr>\n",
       "    <tr>\n",
       "      <th>carat</th>\n",
       "      <td>0.921591</td>\n",
       "    </tr>\n",
       "    <tr>\n",
       "      <th>x</th>\n",
       "      <td>0.884435</td>\n",
       "    </tr>\n",
       "    <tr>\n",
       "      <th>y</th>\n",
       "      <td>0.865421</td>\n",
       "    </tr>\n",
       "    <tr>\n",
       "      <th>z</th>\n",
       "      <td>0.861249</td>\n",
       "    </tr>\n",
       "    <tr>\n",
       "      <th>table</th>\n",
       "      <td>0.127134</td>\n",
       "    </tr>\n",
       "    <tr>\n",
       "      <th>depth</th>\n",
       "      <td>-0.010647</td>\n",
       "    </tr>\n",
       "  </tbody>\n",
       "</table>\n",
       "</div>"
      ],
      "text/plain": [
       "          price\n",
       "price  1.000000\n",
       "carat  0.921591\n",
       "x      0.884435\n",
       "y      0.865421\n",
       "z      0.861249\n",
       "table  0.127134\n",
       "depth -0.010647"
      ]
     },
     "execution_count": 27,
     "metadata": {},
     "output_type": "execute_result"
    }
   ],
   "source": [
    "data_numeric.corr().sort_values('price', ascending=False)[['price']]\n",
    "# больше всего на целевую переменную, цену, влияют карат и размер (все три размерности) камня - длина чуть больше, чем ширина с глубиной"
   ]
  },
  {
   "cell_type": "markdown",
   "metadata": {},
   "source": [
    "**Задача 3.4 (0.1 балла)** Так как линейная модель складывает значения признаков с некоторыми весами, нам нужно аккуратно обработать категориальные признаки. Закодируйте категориальные переменные при помощи OneHot-кодирования."
   ]
  },
  {
   "cell_type": "code",
   "execution_count": 28,
   "metadata": {},
   "outputs": [
    {
     "data": {
      "text/html": [
       "<div>\n",
       "<style scoped>\n",
       "    .dataframe tbody tr th:only-of-type {\n",
       "        vertical-align: middle;\n",
       "    }\n",
       "\n",
       "    .dataframe tbody tr th {\n",
       "        vertical-align: top;\n",
       "    }\n",
       "\n",
       "    .dataframe thead th {\n",
       "        text-align: right;\n",
       "    }\n",
       "</style>\n",
       "<table border=\"1\" class=\"dataframe\">\n",
       "  <thead>\n",
       "    <tr style=\"text-align: right;\">\n",
       "      <th></th>\n",
       "      <th>carat</th>\n",
       "      <th>depth</th>\n",
       "      <th>table</th>\n",
       "      <th>price</th>\n",
       "      <th>x</th>\n",
       "      <th>y</th>\n",
       "      <th>z</th>\n",
       "      <th>cut_Good</th>\n",
       "      <th>cut_Ideal</th>\n",
       "      <th>cut_Premium</th>\n",
       "      <th>...</th>\n",
       "      <th>color_H</th>\n",
       "      <th>color_I</th>\n",
       "      <th>color_J</th>\n",
       "      <th>clarity_IF</th>\n",
       "      <th>clarity_SI1</th>\n",
       "      <th>clarity_SI2</th>\n",
       "      <th>clarity_VS1</th>\n",
       "      <th>clarity_VS2</th>\n",
       "      <th>clarity_VVS1</th>\n",
       "      <th>clarity_VVS2</th>\n",
       "    </tr>\n",
       "  </thead>\n",
       "  <tbody>\n",
       "    <tr>\n",
       "      <th>0</th>\n",
       "      <td>0.23</td>\n",
       "      <td>61.5</td>\n",
       "      <td>55.0</td>\n",
       "      <td>326</td>\n",
       "      <td>3.95</td>\n",
       "      <td>3.98</td>\n",
       "      <td>2.43</td>\n",
       "      <td>0</td>\n",
       "      <td>1</td>\n",
       "      <td>0</td>\n",
       "      <td>...</td>\n",
       "      <td>0</td>\n",
       "      <td>0</td>\n",
       "      <td>0</td>\n",
       "      <td>0</td>\n",
       "      <td>0</td>\n",
       "      <td>1</td>\n",
       "      <td>0</td>\n",
       "      <td>0</td>\n",
       "      <td>0</td>\n",
       "      <td>0</td>\n",
       "    </tr>\n",
       "    <tr>\n",
       "      <th>1</th>\n",
       "      <td>0.21</td>\n",
       "      <td>59.8</td>\n",
       "      <td>61.0</td>\n",
       "      <td>326</td>\n",
       "      <td>3.89</td>\n",
       "      <td>3.84</td>\n",
       "      <td>2.31</td>\n",
       "      <td>0</td>\n",
       "      <td>0</td>\n",
       "      <td>1</td>\n",
       "      <td>...</td>\n",
       "      <td>0</td>\n",
       "      <td>0</td>\n",
       "      <td>0</td>\n",
       "      <td>0</td>\n",
       "      <td>1</td>\n",
       "      <td>0</td>\n",
       "      <td>0</td>\n",
       "      <td>0</td>\n",
       "      <td>0</td>\n",
       "      <td>0</td>\n",
       "    </tr>\n",
       "    <tr>\n",
       "      <th>2</th>\n",
       "      <td>0.23</td>\n",
       "      <td>56.9</td>\n",
       "      <td>65.0</td>\n",
       "      <td>327</td>\n",
       "      <td>4.05</td>\n",
       "      <td>4.07</td>\n",
       "      <td>2.31</td>\n",
       "      <td>1</td>\n",
       "      <td>0</td>\n",
       "      <td>0</td>\n",
       "      <td>...</td>\n",
       "      <td>0</td>\n",
       "      <td>0</td>\n",
       "      <td>0</td>\n",
       "      <td>0</td>\n",
       "      <td>0</td>\n",
       "      <td>0</td>\n",
       "      <td>1</td>\n",
       "      <td>0</td>\n",
       "      <td>0</td>\n",
       "      <td>0</td>\n",
       "    </tr>\n",
       "    <tr>\n",
       "      <th>3</th>\n",
       "      <td>0.29</td>\n",
       "      <td>62.4</td>\n",
       "      <td>58.0</td>\n",
       "      <td>334</td>\n",
       "      <td>4.20</td>\n",
       "      <td>4.23</td>\n",
       "      <td>2.63</td>\n",
       "      <td>0</td>\n",
       "      <td>0</td>\n",
       "      <td>1</td>\n",
       "      <td>...</td>\n",
       "      <td>0</td>\n",
       "      <td>1</td>\n",
       "      <td>0</td>\n",
       "      <td>0</td>\n",
       "      <td>0</td>\n",
       "      <td>0</td>\n",
       "      <td>0</td>\n",
       "      <td>1</td>\n",
       "      <td>0</td>\n",
       "      <td>0</td>\n",
       "    </tr>\n",
       "    <tr>\n",
       "      <th>4</th>\n",
       "      <td>0.31</td>\n",
       "      <td>63.3</td>\n",
       "      <td>58.0</td>\n",
       "      <td>335</td>\n",
       "      <td>4.34</td>\n",
       "      <td>4.35</td>\n",
       "      <td>2.75</td>\n",
       "      <td>1</td>\n",
       "      <td>0</td>\n",
       "      <td>0</td>\n",
       "      <td>...</td>\n",
       "      <td>0</td>\n",
       "      <td>0</td>\n",
       "      <td>1</td>\n",
       "      <td>0</td>\n",
       "      <td>0</td>\n",
       "      <td>1</td>\n",
       "      <td>0</td>\n",
       "      <td>0</td>\n",
       "      <td>0</td>\n",
       "      <td>0</td>\n",
       "    </tr>\n",
       "  </tbody>\n",
       "</table>\n",
       "<p>5 rows × 24 columns</p>\n",
       "</div>"
      ],
      "text/plain": [
       "   carat  depth  table  price     x     y     z  cut_Good  cut_Ideal  \\\n",
       "0   0.23   61.5   55.0    326  3.95  3.98  2.43         0          1   \n",
       "1   0.21   59.8   61.0    326  3.89  3.84  2.31         0          0   \n",
       "2   0.23   56.9   65.0    327  4.05  4.07  2.31         1          0   \n",
       "3   0.29   62.4   58.0    334  4.20  4.23  2.63         0          0   \n",
       "4   0.31   63.3   58.0    335  4.34  4.35  2.75         1          0   \n",
       "\n",
       "   cut_Premium  ...  color_H  color_I  color_J  clarity_IF  clarity_SI1  \\\n",
       "0            0  ...        0        0        0           0            0   \n",
       "1            1  ...        0        0        0           0            1   \n",
       "2            0  ...        0        0        0           0            0   \n",
       "3            1  ...        0        1        0           0            0   \n",
       "4            0  ...        0        0        1           0            0   \n",
       "\n",
       "   clarity_SI2  clarity_VS1  clarity_VS2  clarity_VVS1  clarity_VVS2  \n",
       "0            1            0            0             0             0  \n",
       "1            0            0            0             0             0  \n",
       "2            0            1            0             0             0  \n",
       "3            0            0            1             0             0  \n",
       "4            1            0            0             0             0  \n",
       "\n",
       "[5 rows x 24 columns]"
      ]
     },
     "execution_count": 28,
     "metadata": {},
     "output_type": "execute_result"
    }
   ],
   "source": [
    "diam = pd.get_dummies(data=diam, drop_first=True)\n",
    "diam.head()"
   ]
  },
  {
   "cell_type": "markdown",
   "metadata": {},
   "source": [
    "**Задача 3.5 (0.2 балла)** Разделите выборку на тренировочную и тестовую. Долю тестовой выборки укажите равной 0.3."
   ]
  },
  {
   "cell_type": "code",
   "execution_count": 29,
   "metadata": {},
   "outputs": [],
   "source": [
    "X_diam = diam.drop('price', axis=1)\n",
    "y_diam = diam[['price']]\n",
    "X2_train, X2_test, y2_train, y2_test = train_test_split(X_diam, y_diam, test_size=0.3, random_state=123)"
   ]
  },
  {
   "cell_type": "markdown",
   "metadata": {},
   "source": [
    "**Задача 3.6 (0.3 балла)** Зачастую при использовании линейных моделей вещественные признаки масштабируются. При этом оценки коэффициентов теряют прямую статистическую интерпретацию (\"при увеличении $X_1$ на 1, $y$ увеличивается на $w_1$\"), но приобретают свойства, полезные в задачах машинного обучения. В этой задаче масштабируйте вещественные признаки тренировочной и тестовой выборок при помощи модуля `StandardScaler`."
   ]
  },
  {
   "cell_type": "code",
   "execution_count": 30,
   "metadata": {},
   "outputs": [],
   "source": [
    "scaler2 = StandardScaler()\n",
    "scaler2.fit(X2_train)\n",
    "X2_train_norm = scaler2.transform(X2_train)\n",
    "X2_test_norm = scaler2.transform(X2_test)\n"
   ]
  },
  {
   "cell_type": "markdown",
   "metadata": {},
   "source": [
    "**Задача 3.7 (0.2 балла)** Оцените линейную регрессию на тренировочной выборке. Выведите среднеквадратичную ошибку на тренировочной и тестовой выборках."
   ]
  },
  {
   "cell_type": "code",
   "execution_count": 31,
   "metadata": {},
   "outputs": [],
   "source": [
    "from sklearn.linear_model import LinearRegression, Ridge, Lasso\n",
    "from sklearn.metrics import mean_squared_error as mse"
   ]
  },
  {
   "cell_type": "code",
   "execution_count": 32,
   "metadata": {},
   "outputs": [
    {
     "name": "stdout",
     "output_type": "stream",
     "text": [
      "Train MSE\tTest MSE\n",
      "1270791.85\t1291193.90\n"
     ]
    }
   ],
   "source": [
    "lr = LinearRegression()\n",
    "lr.fit(X2_train_norm, y2_train)\n",
    "y_train_predicted = lr.predict(X2_train_norm)\n",
    "y_test_predicted = lr.predict(X2_test_norm)\n",
    "\n",
    "print('Train MSE\\tTest MSE\\n%.2f\\t%.2f'%(mse(y2_train, y_train_predicted), mse(y2_test, y_test_predicted)))"
   ]
  },
  {
   "attachments": {
    "telegram-cloud-photo-size-2-5291836460057606363-y.jpg": {
     "image/jpeg": "[encoded data removed]"
    }
   },
   "cell_type": "markdown",
   "metadata": {},
   "source": [
    "![telegram-cloud-photo-size-2-5291836460057606363-y.jpg](attachment:telegram-cloud-photo-size-2-5291836460057606363-y.jpg)"
   ]
  },
  {
   "cell_type": "code",
   "execution_count": 33,
   "metadata": {},
   "outputs": [
    {
     "name": "stdout",
     "output_type": "stream",
     "text": [
      "Train RMSE\tTest RMSE\n",
      "1127.29\t\t1136.31\n"
     ]
    }
   ],
   "source": [
    "# RMSE\n",
    "print('Train RMSE\\tTest RMSE\\n%.2f\\t\\t%.2f'%(mse(y2_train, y_train_predicted, squared=False), mse(y2_test, y_test_predicted, squared = False)))"
   ]
  },
  {
   "cell_type": "markdown",
   "metadata": {},
   "source": [
    "**Задача 3.8 (0.2 балла)** Изучите документацию модуля `LinearRegression` и выведите полученные оценки коэффициентов. Назовите вещественные переменные, оценки коэффициентов которых по модулю на порядок превышают оценки прочих вещественных переменных."
   ]
  },
  {
   "cell_type": "code",
   "execution_count": 34,
   "metadata": {},
   "outputs": [
    {
     "data": {
      "text/html": [
       "<div>\n",
       "<style scoped>\n",
       "    .dataframe tbody tr th:only-of-type {\n",
       "        vertical-align: middle;\n",
       "    }\n",
       "\n",
       "    .dataframe tbody tr th {\n",
       "        vertical-align: top;\n",
       "    }\n",
       "\n",
       "    .dataframe thead th {\n",
       "        text-align: right;\n",
       "    }\n",
       "</style>\n",
       "<table border=\"1\" class=\"dataframe\">\n",
       "  <thead>\n",
       "    <tr style=\"text-align: right;\">\n",
       "      <th></th>\n",
       "      <th>Weight</th>\n",
       "    </tr>\n",
       "  </thead>\n",
       "  <tbody>\n",
       "    <tr>\n",
       "      <th>carat</th>\n",
       "      <td>5307.717343</td>\n",
       "    </tr>\n",
       "    <tr>\n",
       "      <th>depth</th>\n",
       "      <td>-90.909302</td>\n",
       "    </tr>\n",
       "    <tr>\n",
       "      <th>table</th>\n",
       "      <td>-63.022745</td>\n",
       "    </tr>\n",
       "    <tr>\n",
       "      <th>x</th>\n",
       "      <td>-1089.756486</td>\n",
       "    </tr>\n",
       "    <tr>\n",
       "      <th>y</th>\n",
       "      <td>0.346573</td>\n",
       "    </tr>\n",
       "    <tr>\n",
       "      <th>z</th>\n",
       "      <td>-40.204498</td>\n",
       "    </tr>\n",
       "    <tr>\n",
       "      <th>cut_Good</th>\n",
       "      <td>177.312094</td>\n",
       "    </tr>\n",
       "    <tr>\n",
       "      <th>cut_Ideal</th>\n",
       "      <td>420.765029</td>\n",
       "    </tr>\n",
       "    <tr>\n",
       "      <th>cut_Premium</th>\n",
       "      <td>344.490788</td>\n",
       "    </tr>\n",
       "    <tr>\n",
       "      <th>cut_Very Good</th>\n",
       "      <td>311.980757</td>\n",
       "    </tr>\n",
       "    <tr>\n",
       "      <th>color_E</th>\n",
       "      <td>-87.941433</td>\n",
       "    </tr>\n",
       "    <tr>\n",
       "      <th>color_F</th>\n",
       "      <td>-105.976741</td>\n",
       "    </tr>\n",
       "    <tr>\n",
       "      <th>color_G</th>\n",
       "      <td>-204.567200</td>\n",
       "    </tr>\n",
       "    <tr>\n",
       "      <th>color_H</th>\n",
       "      <td>-353.412331</td>\n",
       "    </tr>\n",
       "    <tr>\n",
       "      <th>color_I</th>\n",
       "      <td>-452.127949</td>\n",
       "    </tr>\n",
       "    <tr>\n",
       "      <th>color_J</th>\n",
       "      <td>-525.758304</td>\n",
       "    </tr>\n",
       "    <tr>\n",
       "      <th>clarity_IF</th>\n",
       "      <td>959.220402</td>\n",
       "    </tr>\n",
       "    <tr>\n",
       "      <th>clarity_SI1</th>\n",
       "      <td>1592.525226</td>\n",
       "    </tr>\n",
       "    <tr>\n",
       "      <th>clarity_SI2</th>\n",
       "      <td>1038.761686</td>\n",
       "    </tr>\n",
       "    <tr>\n",
       "      <th>clarity_VS1</th>\n",
       "      <td>1659.362719</td>\n",
       "    </tr>\n",
       "    <tr>\n",
       "      <th>clarity_VS2</th>\n",
       "      <td>1814.473418</td>\n",
       "    </tr>\n",
       "    <tr>\n",
       "      <th>clarity_VVS1</th>\n",
       "      <td>1280.196533</td>\n",
       "    </tr>\n",
       "    <tr>\n",
       "      <th>clarity_VVS2</th>\n",
       "      <td>1456.147658</td>\n",
       "    </tr>\n",
       "  </tbody>\n",
       "</table>\n",
       "</div>"
      ],
      "text/plain": [
       "                    Weight\n",
       "carat          5307.717343\n",
       "depth           -90.909302\n",
       "table           -63.022745\n",
       "x             -1089.756486\n",
       "y                 0.346573\n",
       "z               -40.204498\n",
       "cut_Good        177.312094\n",
       "cut_Ideal       420.765029\n",
       "cut_Premium     344.490788\n",
       "cut_Very Good   311.980757\n",
       "color_E         -87.941433\n",
       "color_F        -105.976741\n",
       "color_G        -204.567200\n",
       "color_H        -353.412331\n",
       "color_I        -452.127949\n",
       "color_J        -525.758304\n",
       "clarity_IF      959.220402\n",
       "clarity_SI1    1592.525226\n",
       "clarity_SI2    1038.761686\n",
       "clarity_VS1    1659.362719\n",
       "clarity_VS2    1814.473418\n",
       "clarity_VVS1   1280.196533\n",
       "clarity_VVS2   1456.147658"
      ]
     },
     "execution_count": 34,
     "metadata": {},
     "output_type": "execute_result"
    }
   ],
   "source": [
    "params = lr.coef_\n",
    "weights = pd.DataFrame({col: w for col, w in zip(X2_train.columns, params[0])}, index=['Weight']).T\n",
    "weights\n",
    "# вещественные переменные - первые шесть характеристик в таблице:\n",
    "#   Коэффициент переменных Х и карат (хз что с ним употребляется - число/номер/...) \n",
    "#   на два и где-то даже на три (переменная у) порядка больше всех остальных вещественных переменных"
   ]
  },
  {
   "cell_type": "markdown",
   "metadata": {},
   "source": [
    "**Задача 3.9 (0.4 балла)** Как можно заметить из анализа корреляционной матрицы в задаче 3.3, между некоторыми признаками имеется сильная корреляция, что может быть индикатором проблемы *мультиколлинеарности*. Различия в порядке коэффициентов, выявленные в предыдущей задаче также намекают на её присутствие. Как известно, для решения этой проблемы можно либо исключить некоторые признаки из модели, либо использовать регуляризацию. Мы воспользуемся вторым вариантом. \n",
    "\n",
    "Вспомним, что смысл регуляризации заключается в том, чтобы изменить функцию потерь так, чтобы устранить проблемы, появляющиеся из-за мультиколлинеарности. При L1-регуляризации предлагается минимизировать следующую функцию потерь:\n",
    "\n",
    "$$\n",
    "\\|y - X\\hat{w}\\|^2 + \\alpha\\sum_{i=1}^k|w_i|\n",
    "$$\n",
    "\n",
    "Такая модель называется Lasso-регрессией.\n",
    "\n",
    "При L2-регуляризации предлагается минимизировать следующую функцию потерь:\n",
    "\n",
    "$$\n",
    "\\|y - X\\hat{w}\\|^2 + \\frac{1}{2}\\alpha\\|w\\|^2\n",
    "$$\n",
    "\n",
    "Такая модель называется Ridge-регрессией. \n",
    "\n",
    "Обучите Lasso-регрессию и Ridge-регрессию, уставновив гиперпараметр регуляризации равным 10. Для этого используйте модули `Lasso` и `Ridge` из `sklearn`. Сильно ли уменьшились веса? Сделайте вывод о том, насколько сильно проблема мультиколлинеарности проявлялась в изначальной регрессии."
   ]
  },
  {
   "cell_type": "markdown",
   "metadata": {},
   "source": [
    "Стоит сказать, что у меня в модели мультиколлинеарность очень сильно проявилась в начале этого задания из-за OHE: оказалось, что это частая проблема, \"Dummy Variable Trap\" (веса признаков, получившихся в результате дамми-кодирования, были порядка 10^15, тогда как веса вещественных переменных оставались в рамках 10^3), так что, вызывая pd.get_dummies , мне пришлось поставить параметр drop_first=True, что во многих случаях, включая мой, решает эту проблему.\n",
    "\n",
    "С одной стороны, среди вещественных переменных неслабую мультиколлинеарность можно было заподозрить еще на этапе вычисления корреляции: с таргетом переменные коррелировали очень сильно - коэффициенты корреляции 4-ех из 6 переменных были > 0.8. С другой, LASSO регрессия уменьшила веса многих переменных (в основном полученых из OHE) на порядок, RIDGE регрессия же почти их не изменила.\n",
    "\n",
    "Учитывая, что в последнем задании (спойлер) обычная модель линейной регрессии оказалась более эффективной на тестовой выборке, чем LASSO модель с подобранным коэффициентом, скажу, что мультиколлинеарность в изначальной регрессии проявлена несильно."
   ]
  },
  {
   "cell_type": "code",
   "execution_count": 35,
   "metadata": {},
   "outputs": [
    {
     "data": {
      "text/html": [
       "<div>\n",
       "<style scoped>\n",
       "    .dataframe tbody tr th:only-of-type {\n",
       "        vertical-align: middle;\n",
       "    }\n",
       "\n",
       "    .dataframe tbody tr th {\n",
       "        vertical-align: top;\n",
       "    }\n",
       "\n",
       "    .dataframe thead th {\n",
       "        text-align: right;\n",
       "    }\n",
       "</style>\n",
       "<table border=\"1\" class=\"dataframe\">\n",
       "  <thead>\n",
       "    <tr style=\"text-align: right;\">\n",
       "      <th></th>\n",
       "      <th>Lasso Weights</th>\n",
       "    </tr>\n",
       "  </thead>\n",
       "  <tbody>\n",
       "    <tr>\n",
       "      <th>carat</th>\n",
       "      <td>4825.591889</td>\n",
       "    </tr>\n",
       "    <tr>\n",
       "      <th>depth</th>\n",
       "      <td>-100.045814</td>\n",
       "    </tr>\n",
       "    <tr>\n",
       "      <th>table</th>\n",
       "      <td>-73.612934</td>\n",
       "    </tr>\n",
       "    <tr>\n",
       "      <th>x</th>\n",
       "      <td>-659.976427</td>\n",
       "    </tr>\n",
       "    <tr>\n",
       "      <th>y</th>\n",
       "      <td>-0.000000</td>\n",
       "    </tr>\n",
       "    <tr>\n",
       "      <th>z</th>\n",
       "      <td>-33.748132</td>\n",
       "    </tr>\n",
       "    <tr>\n",
       "      <th>cut_Good</th>\n",
       "      <td>48.466806</td>\n",
       "    </tr>\n",
       "    <tr>\n",
       "      <th>cut_Ideal</th>\n",
       "      <td>207.416634</td>\n",
       "    </tr>\n",
       "    <tr>\n",
       "      <th>cut_Premium</th>\n",
       "      <td>152.773649</td>\n",
       "    </tr>\n",
       "    <tr>\n",
       "      <th>cut_Very Good</th>\n",
       "      <td>136.237880</td>\n",
       "    </tr>\n",
       "    <tr>\n",
       "      <th>color_E</th>\n",
       "      <td>-17.843771</td>\n",
       "    </tr>\n",
       "    <tr>\n",
       "      <th>color_F</th>\n",
       "      <td>-39.293853</td>\n",
       "    </tr>\n",
       "    <tr>\n",
       "      <th>color_G</th>\n",
       "      <td>-126.933901</td>\n",
       "    </tr>\n",
       "    <tr>\n",
       "      <th>color_H</th>\n",
       "      <td>-280.705952</td>\n",
       "    </tr>\n",
       "    <tr>\n",
       "      <th>color_I</th>\n",
       "      <td>-379.284468</td>\n",
       "    </tr>\n",
       "    <tr>\n",
       "      <th>color_J</th>\n",
       "      <td>-465.592801</td>\n",
       "    </tr>\n",
       "    <tr>\n",
       "      <th>clarity_IF</th>\n",
       "      <td>645.580577</td>\n",
       "    </tr>\n",
       "    <tr>\n",
       "      <th>clarity_SI1</th>\n",
       "      <td>859.335314</td>\n",
       "    </tr>\n",
       "    <tr>\n",
       "      <th>clarity_SI2</th>\n",
       "      <td>402.432325</td>\n",
       "    </tr>\n",
       "    <tr>\n",
       "      <th>clarity_VS1</th>\n",
       "      <td>1038.781995</td>\n",
       "    </tr>\n",
       "    <tr>\n",
       "      <th>clarity_VS2</th>\n",
       "      <td>1096.742828</td>\n",
       "    </tr>\n",
       "    <tr>\n",
       "      <th>clarity_VVS1</th>\n",
       "      <td>845.656060</td>\n",
       "    </tr>\n",
       "    <tr>\n",
       "      <th>clarity_VVS2</th>\n",
       "      <td>955.793460</td>\n",
       "    </tr>\n",
       "  </tbody>\n",
       "</table>\n",
       "</div>"
      ],
      "text/plain": [
       "               Lasso Weights\n",
       "carat            4825.591889\n",
       "depth            -100.045814\n",
       "table             -73.612934\n",
       "x                -659.976427\n",
       "y                  -0.000000\n",
       "z                 -33.748132\n",
       "cut_Good           48.466806\n",
       "cut_Ideal         207.416634\n",
       "cut_Premium       152.773649\n",
       "cut_Very Good     136.237880\n",
       "color_E           -17.843771\n",
       "color_F           -39.293853\n",
       "color_G          -126.933901\n",
       "color_H          -280.705952\n",
       "color_I          -379.284468\n",
       "color_J          -465.592801\n",
       "clarity_IF        645.580577\n",
       "clarity_SI1       859.335314\n",
       "clarity_SI2       402.432325\n",
       "clarity_VS1      1038.781995\n",
       "clarity_VS2      1096.742828\n",
       "clarity_VVS1      845.656060\n",
       "clarity_VVS2      955.793460"
      ]
     },
     "execution_count": 35,
     "metadata": {},
     "output_type": "execute_result"
    }
   ],
   "source": [
    "lasso = Lasso(10).fit(X2_train_norm, y2_train)\n",
    "params = lasso.coef_\n",
    "weights = pd.DataFrame({col: w for col, w in zip(X2_train.columns, params)}, index=['Lasso Weights']).T\n",
    "weights"
   ]
  },
  {
   "cell_type": "code",
   "execution_count": 36,
   "metadata": {},
   "outputs": [
    {
     "data": {
      "text/html": [
       "<div>\n",
       "<style scoped>\n",
       "    .dataframe tbody tr th:only-of-type {\n",
       "        vertical-align: middle;\n",
       "    }\n",
       "\n",
       "    .dataframe tbody tr th {\n",
       "        vertical-align: top;\n",
       "    }\n",
       "\n",
       "    .dataframe thead th {\n",
       "        text-align: right;\n",
       "    }\n",
       "</style>\n",
       "<table border=\"1\" class=\"dataframe\">\n",
       "  <thead>\n",
       "    <tr style=\"text-align: right;\">\n",
       "      <th></th>\n",
       "      <th>Ridge Weights</th>\n",
       "    </tr>\n",
       "  </thead>\n",
       "  <tbody>\n",
       "    <tr>\n",
       "      <th>carat</th>\n",
       "      <td>5270.623943</td>\n",
       "    </tr>\n",
       "    <tr>\n",
       "      <th>depth</th>\n",
       "      <td>-89.294951</td>\n",
       "    </tr>\n",
       "    <tr>\n",
       "      <th>table</th>\n",
       "      <td>-63.214765</td>\n",
       "    </tr>\n",
       "    <tr>\n",
       "      <th>x</th>\n",
       "      <td>-1049.459601</td>\n",
       "    </tr>\n",
       "    <tr>\n",
       "      <th>y</th>\n",
       "      <td>-1.696406</td>\n",
       "    </tr>\n",
       "    <tr>\n",
       "      <th>z</th>\n",
       "      <td>-43.543168</td>\n",
       "    </tr>\n",
       "    <tr>\n",
       "      <th>cut_Good</th>\n",
       "      <td>177.606753</td>\n",
       "    </tr>\n",
       "    <tr>\n",
       "      <th>cut_Ideal</th>\n",
       "      <td>421.414874</td>\n",
       "    </tr>\n",
       "    <tr>\n",
       "      <th>cut_Premium</th>\n",
       "      <td>345.135106</td>\n",
       "    </tr>\n",
       "    <tr>\n",
       "      <th>cut_Very Good</th>\n",
       "      <td>312.910240</td>\n",
       "    </tr>\n",
       "    <tr>\n",
       "      <th>color_E</th>\n",
       "      <td>-87.525467</td>\n",
       "    </tr>\n",
       "    <tr>\n",
       "      <th>color_F</th>\n",
       "      <td>-105.754746</td>\n",
       "    </tr>\n",
       "    <tr>\n",
       "      <th>color_G</th>\n",
       "      <td>-203.967801</td>\n",
       "    </tr>\n",
       "    <tr>\n",
       "      <th>color_H</th>\n",
       "      <td>-352.511301</td>\n",
       "    </tr>\n",
       "    <tr>\n",
       "      <th>color_I</th>\n",
       "      <td>-450.784438</td>\n",
       "    </tr>\n",
       "    <tr>\n",
       "      <th>color_J</th>\n",
       "      <td>-524.434272</td>\n",
       "    </tr>\n",
       "    <tr>\n",
       "      <th>clarity_IF</th>\n",
       "      <td>946.853565</td>\n",
       "    </tr>\n",
       "    <tr>\n",
       "      <th>clarity_SI1</th>\n",
       "      <td>1562.217047</td>\n",
       "    </tr>\n",
       "    <tr>\n",
       "      <th>clarity_SI2</th>\n",
       "      <td>1012.935906</td>\n",
       "    </tr>\n",
       "    <tr>\n",
       "      <th>clarity_VS1</th>\n",
       "      <td>1634.030881</td>\n",
       "    </tr>\n",
       "    <tr>\n",
       "      <th>clarity_VS2</th>\n",
       "      <td>1784.952441</td>\n",
       "    </tr>\n",
       "    <tr>\n",
       "      <th>clarity_VVS1</th>\n",
       "      <td>1262.828387</td>\n",
       "    </tr>\n",
       "    <tr>\n",
       "      <th>clarity_VVS2</th>\n",
       "      <td>1435.889276</td>\n",
       "    </tr>\n",
       "  </tbody>\n",
       "</table>\n",
       "</div>"
      ],
      "text/plain": [
       "               Ridge Weights\n",
       "carat            5270.623943\n",
       "depth             -89.294951\n",
       "table             -63.214765\n",
       "x               -1049.459601\n",
       "y                  -1.696406\n",
       "z                 -43.543168\n",
       "cut_Good          177.606753\n",
       "cut_Ideal         421.414874\n",
       "cut_Premium       345.135106\n",
       "cut_Very Good     312.910240\n",
       "color_E           -87.525467\n",
       "color_F          -105.754746\n",
       "color_G          -203.967801\n",
       "color_H          -352.511301\n",
       "color_I          -450.784438\n",
       "color_J          -524.434272\n",
       "clarity_IF        946.853565\n",
       "clarity_SI1      1562.217047\n",
       "clarity_SI2      1012.935906\n",
       "clarity_VS1      1634.030881\n",
       "clarity_VS2      1784.952441\n",
       "clarity_VVS1     1262.828387\n",
       "clarity_VVS2     1435.889276"
      ]
     },
     "execution_count": 36,
     "metadata": {},
     "output_type": "execute_result"
    }
   ],
   "source": [
    "ridge = Ridge(10)\n",
    "ridge.fit(X2_train_norm, y2_train)\n",
    "params = ridge.coef_\n",
    "\n",
    "weights = pd.DataFrame({col: w for col, w in zip(X2_train.columns, params[0])}, index=['Ridge Weights']).T\n",
    "weights"
   ]
  },
  {
   "cell_type": "markdown",
   "metadata": {},
   "source": [
    "**Задача 3.10 (0.4 балла)** Как обсуждалось на семинарах, Lasso-регрессию можно использовать для отбора наиболее информативных признаков. Для следующих значений параметра регуляриазции $\\alpha$: 0.1, 1, 10, 100, 200 –  обучите Lasso- и Ridge-регрессии и постройте график измненения евклидовой нормы весов (`np.linalg.norm()` от вектора оценок коэффициентов) в зависимости от параметра $\\alpha$. Как известно, норма является численной характеристикой величины вектора, а потому по норме можно судить о том, насколько большие элементы содержит вектор оценок коэффициентов. \n",
    "\n",
    "Какой метод агрессивнее уменьшает веса? Поясните, почему Lasso-регрессию часто используют для отбора признаков."
   ]
  },
  {
   "cell_type": "markdown",
   "metadata": {},
   "source": [
    "    Ответ\n",
    "Lasso-регрессия уменьшает веса сильно аггресивнее. \n",
    "Она автоматически проводит отбор признаков, строя модель: так как она добавляет к минимизируемому функционалу ошибок сумму абсолютных величин коэффициентов регрессии, заставляя их быть меньше фиксированной величины, многие коэффициенты просто зануляются, таким образом исключая свое влияние на предсказание. Оставшиеся ненулевые коэффициенты считаются \"отобранными\" алгоритмом признаками, которые остаются в модели. \n",
    "Ridge регрессия тоже уменьшает веса коэффициентов, но намного меньше из них доводит до нуля. \n"
   ]
  },
  {
   "cell_type": "code",
   "execution_count": 61,
   "metadata": {},
   "outputs": [
    {
     "data": {
      "text/plain": [
       "[Text(0, 0, '0.1'),\n",
       " Text(0, 0, '1'),\n",
       " Text(0, 0, '10'),\n",
       " Text(0, 0, '100'),\n",
       " Text(0, 0, '200')]"
      ]
     },
     "execution_count": 61,
     "metadata": {},
     "output_type": "execute_result"
    },
    {
     "data": {
      "image/png": "[encoded data removed]",
      "text/plain": [
       "<Figure size 360x504 with 1 Axes>"
      ]
     },
     "metadata": {
      "needs_background": "light"
     },
     "output_type": "display_data"
    }
   ],
   "source": [
    "regs = [0.1, 1, 10, 100, 200]\n",
    "lasso_norms = []\n",
    "ridge_norms = []\n",
    "for reg in regs:\n",
    "    lasso = Lasso(reg).fit(X2_train_norm, y2_train)\n",
    "    lasso_norms.append(np.linalg.norm(lasso.coef_))\n",
    "    ridge = Ridge(reg).fit(X2_train_norm, y2_train)\n",
    "    ridge_norms.append(np.linalg.norm(ridge.coef_))\n",
    "fig, axes = plt.subplots(figsize=(5,7))\n",
    "axes.plot(lasso_norms, marker = 'o')\n",
    "axes.plot(ridge_norms, marker = 'o', color = 'magenta')\n",
    "axes.set_xticks(ticks=[0, 1, 2, 3, 4])\n",
    "axes.set_xticklabels(labels=['0.1', '1', '10', '100', '200'])\n",
    "axes.set_xlabel('Regularization strength')\n",
    "axes.set_ylabel('Euclidean norm of weights\\' vector')\n",
    "axes.legend(['Lasso', 'Ridge']) \n",
    "axes.grid()"
   ]
  },
  {
   "cell_type": "markdown",
   "metadata": {},
   "source": [
    "**Задача 3.11 (0.5 балла)** \n",
    "В зависимости от значения параметра $\\alpha$ в Lasso-регрессии зануляются разные оценки коэффициентов. Оптимальное значение $\\alpha$ можно подобрать, например, при помощи кросс-валидации по тренировочной выборке. \n",
    "\n",
    "Для проведения кросс-валидации можно использовать модуль `LassoCV`. Этот модуль принимает список значений $\\alpha$ (параметр `alphas`) и при обучении проводит кросс-валидацию для каждого значения из этого списка, сохраняя MSE на каждом участке кросс-валидации (количество участков – параметр `cv`) в матрицу ошибок (то есть итоговая матрица будет иметь размер `len(alphas)` $\\times$ `cv`). После обучения модели матрицу ошибок можно получить, обратившись к атрибуту `.mse_path_`. \n",
    "\n",
    "Заметим, что модель может использовать $\\alpha$ не в том порядке, в котором вы подаёте их в функцию: для определения порядка используйте атрибут `.alphas_` Установите количество участков для кросс-валидации (параметр `cv`) равным 5.\n",
    "\n",
    "Усредните ошибки для каждого значения $\\alpha$ (то есть по строкам матрицы ошибок) и выберите то значение, которое даёт наибольшее качество. "
   ]
  },
  {
   "cell_type": "code",
   "execution_count": 38,
   "metadata": {},
   "outputs": [],
   "source": [
    "from sklearn.linear_model import LassoCV"
   ]
  },
  {
   "cell_type": "code",
   "execution_count": 39,
   "metadata": {},
   "outputs": [
    {
     "name": "stderr",
     "output_type": "stream",
     "text": [
      "/Users/zhenyadubnova/opt/anaconda3/lib/python3.7/site-packages/sklearn/linear_model/_coordinate_descent.py:472: ConvergenceWarning: Objective did not converge. You might want to increase the number of iterations. Duality gap: 2615960188.8187447, tolerance: 47919147.9701415\n",
      "  tol, rng, random, positive)\n"
     ]
    }
   ],
   "source": [
    "crossval = LassoCV(n_alphas = 5, alphas=regs, cv=5).fit(X2_train_norm, y2_train.values.ravel())"
   ]
  },
  {
   "cell_type": "code",
   "execution_count": 45,
   "metadata": {
    "scrolled": true
   },
   "outputs": [
    {
     "data": {
      "text/html": [
       "<div>\n",
       "<style scoped>\n",
       "    .dataframe tbody tr th:only-of-type {\n",
       "        vertical-align: middle;\n",
       "    }\n",
       "\n",
       "    .dataframe tbody tr th {\n",
       "        vertical-align: top;\n",
       "    }\n",
       "\n",
       "    .dataframe thead th {\n",
       "        text-align: right;\n",
       "    }\n",
       "</style>\n",
       "<table border=\"1\" class=\"dataframe\">\n",
       "  <thead>\n",
       "    <tr style=\"text-align: right;\">\n",
       "      <th></th>\n",
       "      <th>validation 1</th>\n",
       "      <th>validation 2</th>\n",
       "      <th>validation 3</th>\n",
       "      <th>validation 4</th>\n",
       "      <th>validation 5</th>\n",
       "    </tr>\n",
       "  </thead>\n",
       "  <tbody>\n",
       "    <tr>\n",
       "      <th>𝛼=200.0</th>\n",
       "      <td>2.161469e+06</td>\n",
       "      <td>2.127189e+06</td>\n",
       "      <td>2.218278e+06</td>\n",
       "      <td>2.139076e+06</td>\n",
       "      <td>2.133937e+06</td>\n",
       "    </tr>\n",
       "    <tr>\n",
       "      <th>𝛼=100.0</th>\n",
       "      <td>1.805084e+06</td>\n",
       "      <td>1.774616e+06</td>\n",
       "      <td>1.833230e+06</td>\n",
       "      <td>1.751819e+06</td>\n",
       "      <td>1.761305e+06</td>\n",
       "    </tr>\n",
       "    <tr>\n",
       "      <th>𝛼=10.0</th>\n",
       "      <td>1.373501e+06</td>\n",
       "      <td>1.304373e+06</td>\n",
       "      <td>1.397426e+06</td>\n",
       "      <td>1.291993e+06</td>\n",
       "      <td>1.306897e+06</td>\n",
       "    </tr>\n",
       "    <tr>\n",
       "      <th>𝛼=1.0</th>\n",
       "      <td>1.314027e+06</td>\n",
       "      <td>1.235592e+06</td>\n",
       "      <td>1.329421e+06</td>\n",
       "      <td>1.251028e+06</td>\n",
       "      <td>1.250739e+06</td>\n",
       "    </tr>\n",
       "    <tr>\n",
       "      <th>𝛼=0.1</th>\n",
       "      <td>1.312842e+06</td>\n",
       "      <td>1.235078e+06</td>\n",
       "      <td>1.382755e+06</td>\n",
       "      <td>1.253364e+06</td>\n",
       "      <td>1.251045e+06</td>\n",
       "    </tr>\n",
       "  </tbody>\n",
       "</table>\n",
       "</div>"
      ],
      "text/plain": [
       "         validation 1  validation 2  validation 3  validation 4  validation 5\n",
       "𝛼=200.0  2.161469e+06  2.127189e+06  2.218278e+06  2.139076e+06  2.133937e+06\n",
       "𝛼=100.0  1.805084e+06  1.774616e+06  1.833230e+06  1.751819e+06  1.761305e+06\n",
       "𝛼=10.0   1.373501e+06  1.304373e+06  1.397426e+06  1.291993e+06  1.306897e+06\n",
       "𝛼=1.0    1.314027e+06  1.235592e+06  1.329421e+06  1.251028e+06  1.250739e+06\n",
       "𝛼=0.1    1.312842e+06  1.235078e+06  1.382755e+06  1.253364e+06  1.251045e+06"
      ]
     },
     "execution_count": 45,
     "metadata": {},
     "output_type": "execute_result"
    }
   ],
   "source": [
    "cv=pd.DataFrame(crossval.mse_path_, columns =[f'validation {i}' for i in [1,2,3,4,5]], \n",
    "                index=[f'𝛼={i}' for i in crossval.alphas_])\n",
    "cv"
   ]
  },
  {
   "cell_type": "code",
   "execution_count": 46,
   "metadata": {},
   "outputs": [
    {
     "data": {
      "text/plain": [
       "𝛼=200.0    2.155990e+06\n",
       "𝛼=100.0    1.785211e+06\n",
       "𝛼=10.0     1.334838e+06\n",
       "𝛼=1.0      1.276161e+06\n",
       "𝛼=0.1      1.287017e+06\n",
       "dtype: float64"
      ]
     },
     "execution_count": 46,
     "metadata": {},
     "output_type": "execute_result"
    }
   ],
   "source": [
    "cv.mean(axis=1)"
   ]
  },
  {
   "cell_type": "markdown",
   "metadata": {},
   "source": [
    "    Минимальная ошибка -> наибольшее качество:\n",
    "**𝛼 = 1**"
   ]
  },
  {
   "cell_type": "markdown",
   "metadata": {},
   "source": [
    "**Задача 3.12 (0.5 балла)** Обучите итоговую Lasso-регрессию с выбранным параметром $\\alpha$ на тренировочной выборке. Выведите полученные коэффициенты и прокомментируйте, какие признаки оказались неинформативными, а какие – наиболее информативными. Приведите возможное смысловое объяснение этого результата."
   ]
  },
  {
   "cell_type": "code",
   "execution_count": 47,
   "metadata": {},
   "outputs": [
    {
     "data": {
      "text/html": [
       "<div>\n",
       "<style scoped>\n",
       "    .dataframe tbody tr th:only-of-type {\n",
       "        vertical-align: middle;\n",
       "    }\n",
       "\n",
       "    .dataframe tbody tr th {\n",
       "        vertical-align: top;\n",
       "    }\n",
       "\n",
       "    .dataframe thead th {\n",
       "        text-align: right;\n",
       "    }\n",
       "</style>\n",
       "<table border=\"1\" class=\"dataframe\">\n",
       "  <thead>\n",
       "    <tr style=\"text-align: right;\">\n",
       "      <th></th>\n",
       "      <th>Weight</th>\n",
       "    </tr>\n",
       "  </thead>\n",
       "  <tbody>\n",
       "    <tr>\n",
       "      <th>carat</th>\n",
       "      <td>5259.479121</td>\n",
       "    </tr>\n",
       "    <tr>\n",
       "      <th>depth</th>\n",
       "      <td>-91.836082</td>\n",
       "    </tr>\n",
       "    <tr>\n",
       "      <th>table</th>\n",
       "      <td>-64.079225</td>\n",
       "    </tr>\n",
       "    <tr>\n",
       "      <th>x</th>\n",
       "      <td>-1046.564711</td>\n",
       "    </tr>\n",
       "    <tr>\n",
       "      <th>y</th>\n",
       "      <td>-0.000000</td>\n",
       "    </tr>\n",
       "    <tr>\n",
       "      <th>z</th>\n",
       "      <td>-39.469813</td>\n",
       "    </tr>\n",
       "    <tr>\n",
       "      <th>cut_Good</th>\n",
       "      <td>164.532145</td>\n",
       "    </tr>\n",
       "    <tr>\n",
       "      <th>cut_Ideal</th>\n",
       "      <td>399.618347</td>\n",
       "    </tr>\n",
       "    <tr>\n",
       "      <th>cut_Premium</th>\n",
       "      <td>325.477093</td>\n",
       "    </tr>\n",
       "    <tr>\n",
       "      <th>cut_Very Good</th>\n",
       "      <td>294.566353</td>\n",
       "    </tr>\n",
       "    <tr>\n",
       "      <th>color_E</th>\n",
       "      <td>-80.935290</td>\n",
       "    </tr>\n",
       "    <tr>\n",
       "      <th>color_F</th>\n",
       "      <td>-99.311116</td>\n",
       "    </tr>\n",
       "    <tr>\n",
       "      <th>color_G</th>\n",
       "      <td>-196.804253</td>\n",
       "    </tr>\n",
       "    <tr>\n",
       "      <th>color_H</th>\n",
       "      <td>-346.143156</td>\n",
       "    </tr>\n",
       "    <tr>\n",
       "      <th>color_I</th>\n",
       "      <td>-444.841461</td>\n",
       "    </tr>\n",
       "    <tr>\n",
       "      <th>color_J</th>\n",
       "      <td>-519.737311</td>\n",
       "    </tr>\n",
       "    <tr>\n",
       "      <th>clarity_IF</th>\n",
       "      <td>927.475466</td>\n",
       "    </tr>\n",
       "    <tr>\n",
       "      <th>clarity_SI1</th>\n",
       "      <td>1518.312781</td>\n",
       "    </tr>\n",
       "    <tr>\n",
       "      <th>clarity_SI2</th>\n",
       "      <td>974.355596</td>\n",
       "    </tr>\n",
       "    <tr>\n",
       "      <th>clarity_VS1</th>\n",
       "      <td>1596.561546</td>\n",
       "    </tr>\n",
       "    <tr>\n",
       "      <th>clarity_VS2</th>\n",
       "      <td>1741.835827</td>\n",
       "    </tr>\n",
       "    <tr>\n",
       "      <th>clarity_VVS1</th>\n",
       "      <td>1236.221312</td>\n",
       "    </tr>\n",
       "    <tr>\n",
       "      <th>clarity_VVS2</th>\n",
       "      <td>1405.514751</td>\n",
       "    </tr>\n",
       "  </tbody>\n",
       "</table>\n",
       "</div>"
      ],
      "text/plain": [
       "                    Weight\n",
       "carat          5259.479121\n",
       "depth           -91.836082\n",
       "table           -64.079225\n",
       "x             -1046.564711\n",
       "y                -0.000000\n",
       "z               -39.469813\n",
       "cut_Good        164.532145\n",
       "cut_Ideal       399.618347\n",
       "cut_Premium     325.477093\n",
       "cut_Very Good   294.566353\n",
       "color_E         -80.935290\n",
       "color_F         -99.311116\n",
       "color_G        -196.804253\n",
       "color_H        -346.143156\n",
       "color_I        -444.841461\n",
       "color_J        -519.737311\n",
       "clarity_IF      927.475466\n",
       "clarity_SI1    1518.312781\n",
       "clarity_SI2     974.355596\n",
       "clarity_VS1    1596.561546\n",
       "clarity_VS2    1741.835827\n",
       "clarity_VVS1   1236.221312\n",
       "clarity_VVS2   1405.514751"
      ]
     },
     "execution_count": 47,
     "metadata": {},
     "output_type": "execute_result"
    }
   ],
   "source": [
    "lasso = Lasso(1).fit(X2_train_norm, y2_train)\n",
    "weights = pd.DataFrame({col: w for col, w in zip(X2_train.columns, lasso.coef_)}, index=['Weight']).T\n",
    "weights"
   ]
  },
  {
   "cell_type": "code",
   "execution_count": 54,
   "metadata": {},
   "outputs": [
    {
     "data": {
      "text/html": [
       "<div>\n",
       "<style scoped>\n",
       "    .dataframe tbody tr th:only-of-type {\n",
       "        vertical-align: middle;\n",
       "    }\n",
       "\n",
       "    .dataframe tbody tr th {\n",
       "        vertical-align: top;\n",
       "    }\n",
       "\n",
       "    .dataframe thead th {\n",
       "        text-align: right;\n",
       "    }\n",
       "</style>\n",
       "<table border=\"1\" class=\"dataframe\">\n",
       "  <thead>\n",
       "    <tr style=\"text-align: right;\">\n",
       "      <th></th>\n",
       "      <th>Weight</th>\n",
       "    </tr>\n",
       "  </thead>\n",
       "  <tbody>\n",
       "    <tr>\n",
       "      <th>carat</th>\n",
       "      <td>3824.519680</td>\n",
       "    </tr>\n",
       "    <tr>\n",
       "      <th>depth</th>\n",
       "      <td>-24.631968</td>\n",
       "    </tr>\n",
       "    <tr>\n",
       "      <th>table</th>\n",
       "      <td>-0.000000</td>\n",
       "    </tr>\n",
       "    <tr>\n",
       "      <th>x</th>\n",
       "      <td>0.000000</td>\n",
       "    </tr>\n",
       "    <tr>\n",
       "      <th>y</th>\n",
       "      <td>0.000000</td>\n",
       "    </tr>\n",
       "    <tr>\n",
       "      <th>z</th>\n",
       "      <td>0.000000</td>\n",
       "    </tr>\n",
       "    <tr>\n",
       "      <th>cut_Good</th>\n",
       "      <td>-0.000000</td>\n",
       "    </tr>\n",
       "    <tr>\n",
       "      <th>cut_Ideal</th>\n",
       "      <td>40.294900</td>\n",
       "    </tr>\n",
       "    <tr>\n",
       "      <th>cut_Premium</th>\n",
       "      <td>0.000000</td>\n",
       "    </tr>\n",
       "    <tr>\n",
       "      <th>cut_Very Good</th>\n",
       "      <td>0.000000</td>\n",
       "    </tr>\n",
       "    <tr>\n",
       "      <th>color_E</th>\n",
       "      <td>0.000000</td>\n",
       "    </tr>\n",
       "    <tr>\n",
       "      <th>color_F</th>\n",
       "      <td>0.000000</td>\n",
       "    </tr>\n",
       "    <tr>\n",
       "      <th>color_G</th>\n",
       "      <td>0.000000</td>\n",
       "    </tr>\n",
       "    <tr>\n",
       "      <th>color_H</th>\n",
       "      <td>-83.239414</td>\n",
       "    </tr>\n",
       "    <tr>\n",
       "      <th>color_I</th>\n",
       "      <td>-163.472312</td>\n",
       "    </tr>\n",
       "    <tr>\n",
       "      <th>color_J</th>\n",
       "      <td>-267.203602</td>\n",
       "    </tr>\n",
       "    <tr>\n",
       "      <th>clarity_IF</th>\n",
       "      <td>90.224430</td>\n",
       "    </tr>\n",
       "    <tr>\n",
       "      <th>clarity_SI1</th>\n",
       "      <td>-133.016855</td>\n",
       "    </tr>\n",
       "    <tr>\n",
       "      <th>clarity_SI2</th>\n",
       "      <td>-389.859508</td>\n",
       "    </tr>\n",
       "    <tr>\n",
       "      <th>clarity_VS1</th>\n",
       "      <td>40.357279</td>\n",
       "    </tr>\n",
       "    <tr>\n",
       "      <th>clarity_VS2</th>\n",
       "      <td>0.000000</td>\n",
       "    </tr>\n",
       "    <tr>\n",
       "      <th>clarity_VVS1</th>\n",
       "      <td>108.122436</td>\n",
       "    </tr>\n",
       "    <tr>\n",
       "      <th>clarity_VVS2</th>\n",
       "      <td>136.143156</td>\n",
       "    </tr>\n",
       "  </tbody>\n",
       "</table>\n",
       "</div>"
      ],
      "text/plain": [
       "                    Weight\n",
       "carat          3824.519680\n",
       "depth           -24.631968\n",
       "table            -0.000000\n",
       "x                 0.000000\n",
       "y                 0.000000\n",
       "z                 0.000000\n",
       "cut_Good         -0.000000\n",
       "cut_Ideal        40.294900\n",
       "cut_Premium       0.000000\n",
       "cut_Very Good     0.000000\n",
       "color_E           0.000000\n",
       "color_F           0.000000\n",
       "color_G           0.000000\n",
       "color_H         -83.239414\n",
       "color_I        -163.472312\n",
       "color_J        -267.203602\n",
       "clarity_IF       90.224430\n",
       "clarity_SI1    -133.016855\n",
       "clarity_SI2    -389.859508\n",
       "clarity_VS1      40.357279\n",
       "clarity_VS2       0.000000\n",
       "clarity_VVS1    108.122436\n",
       "clarity_VVS2    136.143156"
      ]
     },
     "execution_count": 54,
     "metadata": {},
     "output_type": "execute_result"
    }
   ],
   "source": [
    "lasso = Lasso(100).fit(X2_train_norm, y2_train)\n",
    "weights = pd.DataFrame({col: w for col, w in zip(X2_train.columns, lasso.coef_)}, index=['Weight']).T\n",
    "weights"
   ]
  },
  {
   "cell_type": "markdown",
   "metadata": {},
   "source": [
    "Неинформативные признаки по мнению Lasso-алгоритма - те, что он занулил. Он провел автоматический отбор признаков, выделив наиболее и наименее информативные\n",
    "\n",
    "    С регуляризатором 𝛼 = 100:\n",
    "Заметим, что, во-первых занулились (=посчитались неинформативными) размерности камня: x, y, z. Возможно это случилось из-за того, что каждый из них по отдельности на цену почти не влияет, в отличие от их соотношения друг с другом - это параметр depth, который не занулился. То есть depth= func(x, y, z) и влияет на предсказание цены.\n",
    "\n",
    "Так же занулились все качества огранки, кроме \"идеального\" - то есть больше всего на цену влияет только идеально ограненный бриллиант (максимальный уровень из возможных). Возможно потому что огранка - дело трудное и высокооплачиваемое, так что если огранка идеальная, то есть сделана профессионалом, это сразу сильно завышает цену. Ну и, думаю, идеально ограненный бриллиант выглядит сильно лучше остальных категроий, возможно даже невооруженным глазом, так что цену на него выставляют сильно больше - потому что такие камни себе покупают те, кто может это позволить.\n",
    "\n",
    "Что касается цветов (варьируются from J (worst) to D (best)), то видно, что плохие цвета на цену оказывают больше отрицательного влияния, чем хорошие - положительного (занулились коэффициенты при 4-ех наилучших цветах, тогда как три оставшихся оказывают тем хуже влияние, чем хуже цвет). Возможно потому что плохой цвет бриллианта различить легче, чем степени хорошего цвета (не разбираюсь, но возможно...), или потому что бриллиантов \"плохих\" цветов на рынке больше, так как добыть их легче и встречаются в природе они чаще, чем чистые.\n",
    "\n",
    "    С регуляризатором 𝛼 = 1:\n",
    "\n",
    "Получается сильно менее интересно: неинформативным регрессия сочла только один признак, у (только он занулился). Смысловое объяснение все то же: так как остались незануленными х, z и depth, то *у* теряет свое индивидуальное влияние на цену, так как depth = func(x, y, z). "
   ]
  },
  {
   "cell_type": "markdown",
   "metadata": {},
   "source": [
    "**Задача 3.13 (0.4 балла)** Сделайте предсказания обученной Lasso-регрессии на тестовой выборке и сравните среднеквадратичную ошибку с ошибкой обычной линейной регрессии из задачи 3.7. Какую модель лучше использовать для предсказаний? Приведите возможное объяснение, почему одна модель оказалась лучше другой."
   ]
  },
  {
   "cell_type": "code",
   "execution_count": 49,
   "metadata": {},
   "outputs": [
    {
     "name": "stdout",
     "output_type": "stream",
     "text": [
      "Linear regression without reg: 1291193.9\n",
      "Lasso regression with 𝛼 = 1: 1290690.88\n"
     ]
    }
   ],
   "source": [
    "lr_test_predicted = lr.predict(X2_test_norm)\n",
    "lasso_test_predicted = lasso.predict(X2_test_norm)\n",
    "print(f'Linear regression without reg: {round(mse(y2_test, lr_test_predicted), 2)}'+\n",
    "    f'\\nLasso regression with 𝛼 = 1: {round(mse(y2_test, lasso_test_predicted), 2)}')"
   ]
  },
  {
   "cell_type": "markdown",
   "metadata": {},
   "source": [
    "**зато теперь понятно, почему раньше модель без регуляризации была намного лучше LASSO! а то ошибка на LASSO-регрессии с 𝛼 = 100 прямо сильно больше, чем ошибка на обычной регрессии)))**\n",
    "\n",
    "Ошибка на LASSO-регрессии с 𝛼 = 1 хоть очень несильно, но все-таки меньше, чем на обычной линейной регрессии. Так как для предсказаний лучше использовать модель с меньшей MSЕ, то в данном случае стоит использовать LASSO-регрессию. \n",
    "\n",
    "Учитывая, что разница в их MSE ~ 500, что является очень маленькой разницей для таких больших MSE (~ 0,04%), то трудно говорить о каком-то значительном объяснении, почему одна модель оказалась лучше другой - сравнивая по MSE на тестовой выборке, они почти одинаковые.\n",
    "\n",
    "Если сравнить коэффициенты этих двух регрессий, то видно, что в LASSO-регрессии кроме зануления коэффициента при у, все веса уменьшились в основном не более, чем на 10-30. Наибольшее уменьшение (>100) коснулись переменных Clarity. Возможно, связано с этим - у больше не влияет на предсказание, а Clarity влияет чуть меньше. Возможно, эта разница в 500 - это то, насколько обычная лин регрессия успела переобучиться, а LASSO этому помешал. вообще возможно все"
   ]
  }
 ],
 "metadata": {
  "kernelspec": {
   "display_name": "Python 3",
   "language": "python",
   "name": "python3"
  },
  "language_info": {
   "codemirror_mode": {
    "name": "ipython",
    "version": 3
   },
   "file_extension": ".py",
   "mimetype": "text/x-python",
   "name": "python",
   "nbconvert_exporter": "python",
   "pygments_lexer": "ipython3",
   "version": "3.7.6"
  }
 },
 "nbformat": 4,
 "nbformat_minor": 4
}
